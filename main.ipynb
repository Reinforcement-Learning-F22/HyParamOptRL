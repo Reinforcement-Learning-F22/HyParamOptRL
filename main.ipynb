{
 "cells": [
  {
   "cell_type": "markdown",
   "id": "dc8842eb-4e54-43e1-954f-dfbe19097f6e",
   "metadata": {},
   "source": [
    "## BaseLine"
   ]
  },
  {
   "cell_type": "code",
   "execution_count": 1,
   "id": "77f77177-a064-4d49-ba5d-9e982e5b7b8b",
   "metadata": {},
   "outputs": [],
   "source": [
    "import numpy as np\n",
    "from sklearn.datasets import load_iris\n",
    "from sklearn.linear_model import SGDClassifier\n",
    "import matplotlib.pyplot as plt\n",
    "from sklearn.model_selection import train_test_split\n",
    "from utils import epsilon_greedy_policy, initialize_q_table, rec_state, rec_state_path, get_best_params, gen_dataclass\n",
    "from RLOpt import ObjModel, train\n",
    "from tqdm import tqdm"
   ]
  },
  {
   "cell_type": "markdown",
   "id": "de1103e4-0a81-4dd9-b8f9-451ce97bc4ce",
   "metadata": {},
   "source": [
    "### Definig parameters"
   ]
  },
  {
   "cell_type": "code",
   "execution_count": 2,
   "id": "da562fdf-6a9b-467b-a8c6-d4846ae26fd7",
   "metadata": {},
   "outputs": [],
   "source": [
    "# Model parameters\n",
    "params = {\n",
    "            'penalty': ['l2', 'l1', 'elasticnet'], \n",
    "            'loss': ['log', 'hinge', 'modified_huber', 'squared_hinge', 'perceptron'],\n",
    "            'random_state': [0],\n",
    "            'alpha': np.arange(0.0001, 0.01, 0.001)\n",
    "        }\n",
    "# Load dataset\n",
    "X, y = load_iris(return_X_y=True)\n",
    "X_train, X_test, y_train, y_test = train_test_split(X, y, test_size=0.33, random_state=42)\n",
    "\n",
    "data = (X_train, y_train, X_test, y_test)"
   ]
  },
  {
   "cell_type": "code",
   "execution_count": 3,
   "id": "d2e0e1c7-2184-4eeb-b549-b603ac49df4f",
   "metadata": {},
   "outputs": [],
   "source": [
    "# Enviroment parameters\n",
    "env = ObjModel(SGDClassifier, params, data)     # environment\n",
    "# Training parameters\n",
    "learning_rate = 1          # Learning rate\n",
    "max_steps = 40            # Max steps per episode\n",
    "gamma = 0.9                # Discounting rate\n",
    "\n",
    "epsilon = 1.0\n",
    "decay_rate = 0.005         # Exponential decay rate for exploration prob\n",
    "state_space = env.observation_space_n \n",
    "action_space = env.action_space_n"
   ]
  },
  {
   "cell_type": "markdown",
   "id": "ae368d10-b6c5-4a53-8365-b857de9f7ffb",
   "metadata": {},
   "source": [
    "### Learning Q-Table"
   ]
  },
  {
   "cell_type": "code",
   "execution_count": 4,
   "id": "25d912f2-9817-435f-96f5-cecc8102d1d4",
   "metadata": {},
   "outputs": [
    {
     "name": "stderr",
     "output_type": "stream",
     "text": [
      "100% (40 of 40) |########################| Elapsed Time: 0:00:00 Time:  0:00:00\n"
     ]
    }
   ],
   "source": [
    "Qtable_init_s = initialize_q_table(state_space, action_space)\n",
    "Qtable_s, episod_rewards_s, best_a = train(epsilon, decay_rate, env, max_steps, Qtable_init_s, gamma, learning_rate)"
   ]
  },
  {
   "cell_type": "markdown",
   "id": "4512872c-e917-4ed2-a49c-21a348e665c4",
   "metadata": {},
   "source": [
    "### Evaluate results"
   ]
  },
  {
   "cell_type": "code",
   "execution_count": 5,
   "id": "719204a5-4845-4895-a610-9c815b6d0793",
   "metadata": {},
   "outputs": [],
   "source": [
    "best_params = get_best_params(Qtable_s, env) + [[env.get_params_by_state(best_a), best_a]]"
   ]
  },
  {
   "cell_type": "code",
   "execution_count": 6,
   "id": "d194b45b-97b9-424b-9c06-ee3a68eac30f",
   "metadata": {},
   "outputs": [
    {
     "name": "stdout",
     "output_type": "stream",
     "text": [
      "State: 59 Accuracy: 0.96\n",
      "State: 105 Accuracy: 0.98\n",
      "State: 99 Accuracy: 1.0\n"
     ]
    }
   ],
   "source": [
    "states = []\n",
    "vals = []\n",
    "for i in best_params:\n",
    "    states.append(i[1])\n",
    "    vals.append(env.step(i[1])[1])\n",
    "    print('State:', i[1], f'Accuracy: {env.step(i[1])[1]}')"
   ]
  },
  {
   "cell_type": "code",
   "execution_count": 7,
   "id": "17cac957-5da0-4494-b9e8-a5243ee8d32f",
   "metadata": {},
   "outputs": [
    {
     "name": "stdout",
     "output_type": "stream",
     "text": [
      "best acc: 1.0\n",
      "best params: {'penalty': 'l1', 'loss': 'perceptron', 'random_state': 0, 'alpha': 0.0091}\n"
     ]
    }
   ],
   "source": [
    "print('best acc:', np.max(vals))\n",
    "print('best params:', env.get_params_by_state(states[np.argmax(vals)]))"
   ]
  },
  {
   "cell_type": "markdown",
   "id": "3b2d76d1-6890-4566-a055-9a9c958b57ae",
   "metadata": {},
   "source": [
    "### Plot rewards"
   ]
  },
  {
   "cell_type": "code",
   "execution_count": 8,
   "id": "723ceb4f-8fe0-4814-b46e-80b9f29e032a",
   "metadata": {},
   "outputs": [
    {
     "data": {
      "text/plain": [
       "[<matplotlib.lines.Line2D at 0x243ac197190>]"
      ]
     },
     "execution_count": 8,
     "metadata": {},
     "output_type": "execute_result"
    },
    {
     "data": {
      "image/png": "[encoded data removed]",
      "text/plain": [
       "<Figure size 432x288 with 1 Axes>"
      ]
     },
     "metadata": {
      "needs_background": "light"
     },
     "output_type": "display_data"
    }
   ],
   "source": [
    "plt.plot(episod_rewards_s[1])\n",
    "plt.plot(np.cumsum(episod_rewards_s[1]))\n",
    "#plt.plot(np.diff(episod_rewards_s[0])*10)"
   ]
  },
  {
   "cell_type": "markdown",
   "id": "9e0c75e8-5031-4fc4-9ee1-e3ea5ae2741c",
   "metadata": {},
   "source": [
    "## Optimizing fairness in LAFTR-DP model"
   ]
  },
  {
   "cell_type": "code",
   "execution_count": 9,
   "id": "5815ac95-8923-4277-a9dd-9641ccb8df0a",
   "metadata": {},
   "outputs": [],
   "source": [
    "from models import DP\n",
    "from dataset import Dataset"
   ]
  },
  {
   "cell_type": "markdown",
   "id": "166f36bd-aa1a-415a-aec8-8a45c017adcc",
   "metadata": {},
   "source": [
    "### Definig parameters"
   ]
  },
  {
   "cell_type": "code",
   "execution_count": 10,
   "id": "045430ae-383e-4b79-9106-3d4c55ae98df",
   "metadata": {},
   "outputs": [],
   "source": [
    "# Model parameters\n",
    "params = {\n",
    "    'edepth': [2],\n",
    "    'ewidths': [32],\n",
    "    'adepth': [2],\n",
    "    'awidths': [32],\n",
    "    'cdepth': [2],\n",
    "    'cwidths': [32],\n",
    "    'zdim': [8, 16],\n",
    "    'activ_ae': ['leakyrelu', 'softplus'],\n",
    "    'activ_adv': ['leakyrelu', 'softplus'],\n",
    "    'activ_class': ['leakyrelu', 'softplus'],\n",
    "    'e_activ_ae': ['leakyrelu', 'softplus'],\n",
    "    'e_activ_adv': ['sigmoid'],\n",
    "    'e_activ_class': ['sigmoid'],\n",
    "    'classweight': [1],\n",
    "    'aeweight': [0, 1],\n",
    "    'advweight': [1],\n",
    "    'xavier': [True],\n",
    "    'batch': [1024],\n",
    "    'epoch' : [10],\n",
    "    'adv_on_batch': [1],\n",
    "    'grad_clip_ae': [0.5],\n",
    "    'grad_clip_adv': [0.5],\n",
    "    'grad_clip_class': [0.5],\n",
    "    'seed': [0],\n",
    "    'opt_ae': ['adam'],\n",
    "    'opt_adv': ['adam'],\n",
    "    'opt_class': ['adam'],\n",
    "    'lr_ae': [0.1],\n",
    "    'lr_adv': [0.1],\n",
    "    'lr_class': [0.1],\n",
    "    'no_cuda': [False]\n",
    "}\n",
    "\n",
    "dataset_params = {\n",
    "    'only_download_data': False,\n",
    "    'dataset': 'German',\n",
    "    'data_dir': 'dataset'\n",
    "}\n",
    "\n",
    "data_args = gen_dataclass(dataset_params)\n",
    "\n",
    "# Load dataset\n",
    "d = Dataset(data_args)\n",
    "d.download_data()\n",
    "\n",
    "params.update({'n_features':[d.n_features()], 'n_classes': [d.n_classes()], 'n_groups': [d.n_groups()]})\n",
    "data = d.dataset_preprocess(get_data=True)"
   ]
  },
  {
   "cell_type": "code",
   "execution_count": 11,
   "id": "9c588337-022c-4d99-8512-8484f22bbb37",
   "metadata": {},
   "outputs": [],
   "source": [
    "# Enviroment parameters\n",
    "env = ObjModel(DP, params, data)     # environment\n",
    "# Training parameters\n",
    "learning_rate = 1          # Learning rate\n",
    "max_steps = 500            # Max steps per episode\n",
    "gamma = 0.9                 # Discounting rate\n",
    "\n",
    "# Exploration parameters\n",
    "epsilon = 1.0\n",
    "decay_rate = 0.005    \n",
    "state_space = env.observation_space_n \n",
    "action_space = env.action_space_n "
   ]
  },
  {
   "cell_type": "code",
   "execution_count": 22,
   "id": "3f0ca72e-18c3-49a9-941b-2cdd67e9a12b",
   "metadata": {},
   "outputs": [
    {
     "name": "stdout",
     "output_type": "stream",
     "text": [
      "Number of combintions: 64\n"
     ]
    }
   ],
   "source": [
    "print('Number of combintions:', action_space)"
   ]
  },
  {
   "cell_type": "markdown",
   "id": "bcd81cb1-1831-4933-a557-c724aee4cbff",
   "metadata": {},
   "source": [
    "### Learning Q-Table"
   ]
  },
  {
   "cell_type": "code",
   "execution_count": 13,
   "id": "82e0b48f-2e84-4814-a94f-f7e95713457e",
   "metadata": {},
   "outputs": [
    {
     "name": "stderr",
     "output_type": "stream",
     "text": [
      "100% (500 of 500) |######################| Elapsed Time: 0:07:47 Time:  0:07:47\n"
     ]
    }
   ],
   "source": [
    "Qtable_init_s = initialize_q_table(state_space, action_space)\n",
    "Qtable_s, episod_rewards_s, best_a = train(epsilon, decay_rate, env, max_steps, Qtable_init_s, gamma, learning_rate)"
   ]
  },
  {
   "cell_type": "code",
   "execution_count": 14,
   "id": "cb7b91bf-a80f-408d-bed4-c37edd242c4a",
   "metadata": {},
   "outputs": [
    {
     "data": {
      "text/plain": [
       "[<matplotlib.lines.Line2D at 0x243ac26b970>]"
      ]
     },
     "execution_count": 14,
     "metadata": {},
     "output_type": "execute_result"
    },
    {
     "data": {
      "image/png": "[encoded data removed]",
      "text/plain": [
       "<Figure size 432x288 with 1 Axes>"
      ]
     },
     "metadata": {
      "needs_background": "light"
     },
     "output_type": "display_data"
    }
   ],
   "source": [
    "plt.plot(episod_rewards_s[1])\n",
    "#plt.plot(np.cumsum(episod_rewards_s[1]))"
   ]
  },
  {
   "cell_type": "markdown",
   "id": "f5343a64-cbbe-46b8-9756-46d2e74cbca5",
   "metadata": {},
   "source": [
    "## Evaluate results"
   ]
  },
  {
   "cell_type": "code",
   "execution_count": 15,
   "id": "2884fb45-6a82-40d0-b9f4-497ad661186d",
   "metadata": {},
   "outputs": [],
   "source": [
    "best_params = get_best_params(Qtable_s, env) + [[env.get_params_by_state(best_a), best_a]]"
   ]
  },
  {
   "cell_type": "code",
   "execution_count": 16,
   "id": "e25731b7-a34c-41d7-bece-d150ec39481f",
   "metadata": {},
   "outputs": [
    {
     "name": "stdout",
     "output_type": "stream",
     "text": [
      "Unfair approach - Fairness: 0.656\n",
      "State: 29 Fairness: 0.821 - 1.0; Mean value: 0.964\n",
      "State: 20 Fairness: 0.796 - 1.0; Mean value: 0.926\n",
      "State: 19 Fairness: 0.751 - 1.0; Mean value: 0.947\n"
     ]
    }
   ],
   "source": [
    "unfair = round(1 - env.model.trainer.calc_fair_metrics(data[2], data[3], unfair=True)['unfair test'][0][2], 3)\n",
    "print(f'Unfair approach - Fairness: {unfair}')\n",
    "for i in best_params:\n",
    "    tmp = []\n",
    "    for _ in range(10):\n",
    "        tmp.append(env.step(i[1])[1])\n",
    "    min_ = round(np.min(tmp), 3)\n",
    "    max_ = round(np.max(tmp), 3)\n",
    "    mean = round(np.mean(tmp), 3)\n",
    "    print('State:', i[1], f'Fairness: {min_} - {max_}; Mean value: {mean}')"
   ]
  },
  {
   "cell_type": "markdown",
   "id": "84d0d0d7-0e25-48c7-89e1-e986fa7be1d7",
   "metadata": {},
   "source": [
    "### Random Search"
   ]
  },
  {
   "cell_type": "code",
   "execution_count": 19,
   "id": "5d0a1522-e2a5-42aa-9bd5-874fe5402e92",
   "metadata": {},
   "outputs": [
    {
     "name": "stderr",
     "output_type": "stream",
     "text": [
      "100%|██████████████████████████████████████████████████████████████████████████████████████████████████████████████████████████████████████████████████| 64/64 [00:58<00:00,  1.10it/s]\n"
     ]
    }
   ],
   "source": [
    "random_states = np.random.choice(np.arange(len(Qtable_s)), (max_steps if max_steps < len(Qtable_s) else len(Qtable_s)), replace=False)\n",
    "best_state = 0\n",
    "best_reward = 0\n",
    "for state in tqdm(random_states):\n",
    "    _, reward = env.step(state)\n",
    "    if reward >= best_reward:\n",
    "        best_reward = reward\n",
    "        best_state = state"
   ]
  },
  {
   "cell_type": "code",
   "execution_count": 20,
   "id": "80b5028c-942f-4196-820e-1de6de99bf4c",
   "metadata": {},
   "outputs": [
    {
     "name": "stdout",
     "output_type": "stream",
     "text": [
      "Random Search\n",
      "State: 32 Fairness: 0.674 - 1.0; Mean value: 0.854\n"
     ]
    }
   ],
   "source": [
    "tmp = []\n",
    "for _ in range(10):\n",
    "    tmp.append(env.step(best_state)[1])\n",
    "min_ = round(np.min(tmp), 3)\n",
    "max_ = round(np.max(tmp), 3)\n",
    "mean = round(np.mean(tmp), 3)\n",
    "print('Random Search')\n",
    "print('State:', best_state, f'Fairness: {min_} - {max_}; Mean value: {mean}')"
   ]
  },
  {
   "cell_type": "code",
   "execution_count": null,
   "id": "104f7920-0dc7-4a14-b891-e1f32bbf711f",
   "metadata": {},
   "outputs": [],
   "source": []
  }
 ],
 "metadata": {
  "kernelspec": {
   "display_name": "Python 3 (ipykernel)",
   "language": "python",
   "name": "python3"
  },
  "language_info": {
   "codemirror_mode": {
    "name": "ipython",
    "version": 3
   },
   "file_extension": ".py",
   "mimetype": "text/x-python",
   "name": "python",
   "nbconvert_exporter": "python",
   "pygments_lexer": "ipython3",
   "version": "3.9.9"
  }
 },
 "nbformat": 4,
 "nbformat_minor": 5
}
