{
 "cells": [
  {
   "cell_type": "code",
   "execution_count": 1,
   "id": "77f77177-a064-4d49-ba5d-9e982e5b7b8b",
   "metadata": {},
   "outputs": [],
   "source": [
    "import numpy as np\n",
    "from sklearn.datasets import load_iris\n",
    "from sklearn.linear_model import SGDClassifier\n",
    "import matplotlib.pyplot as plt\n",
    "from sklearn.model_selection import train_test_split\n",
    "from utils import epsilon_greedy_policy, initialize_q_table, rec_state, rec_state_path, get_best_params\n",
    "from RLOpt import ObjModel, train"
   ]
  },
  {
   "cell_type": "code",
   "execution_count": 2,
   "id": "c0e28bbb-dfd7-4713-9602-61cc4544228e",
   "metadata": {},
   "outputs": [],
   "source": [
    "# Environment parameters\n",
    "params = {\n",
    "            'penalty': ['l2', 'l1', 'elasticnet'], \n",
    "            'loss': ['log', 'hinge', 'modified_huber', 'squared_hinge', 'perceptron'],\n",
    "            'random_state': [0],\n",
    "            'alpha': np.arange(0.0001, 0.01, 0.001)\n",
    "        }\n",
    "X, y = load_iris(return_X_y=True)\n",
    "X_train, X_test, y_train, y_test = train_test_split(X, y, test_size=0.33, random_state=42)\n",
    "data = (X_train, y_train, X_test, y_test)\n",
    "env = ObjModel(SGDClassifier, params, data)     # environment\n",
    "# Training parameters\n",
    "learning_rate = 1          # Learning rate\n",
    "max_steps = 20            # Max steps per episode\n",
    "gamma = 0.9                 # Discounting rate\n",
    "\n",
    "# Exploration parameters\n",
    "epsilon = 1.0\n",
    "decay_rate = 0.005            # Exponential decay rate for exploration prob"
   ]
  },
  {
   "cell_type": "code",
   "execution_count": 3,
   "id": "cc556248-45e1-417a-86b2-10494ae93602",
   "metadata": {},
   "outputs": [],
   "source": [
    "state_space = env.observation_space_n # TODO\n",
    "action_space = env.action_space_n # TODO\n",
    "Qtable_init_s = initialize_q_table(state_space, action_space)\n",
    "\n",
    "Qtable_s, episod_rewards_s = train(epsilon, decay_rate, env, max_steps, Qtable_init_s, gamma, learning_rate)\n",
    "\n",
    "params = get_best_params(Qtable_s, env, calc_acc=True)"
   ]
  },
  {
   "cell_type": "code",
   "execution_count": 4,
   "id": "1f901297-5c81-4a3e-b41b-81a3c17519f7",
   "metadata": {},
   "outputs": [
    {
     "name": "stdout",
     "output_type": "stream",
     "text": [
      "[0.98, 1.0, 0.98] best acc: 1.0\n"
     ]
    }
   ],
   "source": [
    "accs = [i[1] for i in params]\n",
    "print(accs, 'best acc:', np.max(accs))"
   ]
  },
  {
   "cell_type": "code",
   "execution_count": 5,
   "id": "c0baaa90-d8da-4f44-b964-c3930d1bfcda",
   "metadata": {},
   "outputs": [
    {
     "name": "stdout",
     "output_type": "stream",
     "text": [
      "best params: {'penalty': 'elasticnet', 'loss': 'modified_huber', 'random_state': 0, 'alpha': 0.0041}\n"
     ]
    }
   ],
   "source": [
    "print('best params:', params[np.argmax(accs)][0])"
   ]
  },
  {
   "cell_type": "code",
   "execution_count": 6,
   "id": "723ceb4f-8fe0-4814-b46e-80b9f29e032a",
   "metadata": {},
   "outputs": [
    {
     "data": {
      "text/plain": [
       "[<matplotlib.lines.Line2D at 0x22156a4b280>]"
      ]
     },
     "execution_count": 6,
     "metadata": {},
     "output_type": "execute_result"
    },
    {
     "data": {
      "image/png": "[encoded data removed]",
      "text/plain": [
       "<Figure size 432x288 with 1 Axes>"
      ]
     },
     "metadata": {
      "needs_background": "light"
     },
     "output_type": "display_data"
    }
   ],
   "source": [
    "#plt.plot(episod_rewards)\n",
    "plt.plot(np.cumsum(episod_rewards_s[1]))\n",
    "plt.plot(episod_rewards_s[0])\n",
    "plt.plot(episod_rewards_s[1])"
   ]
  },
  {
   "cell_type": "code",
   "execution_count": null,
   "id": "fce18f9b-5292-43be-86b0-738000008de7",
   "metadata": {},
   "outputs": [],
   "source": []
  }
 ],
 "metadata": {
  "kernelspec": {
   "display_name": "Python 3 (ipykernel)",
   "language": "python",
   "name": "python3"
  },
  "language_info": {
   "codemirror_mode": {
    "name": "ipython",
    "version": 3
   },
   "file_extension": ".py",
   "mimetype": "text/x-python",
   "name": "python",
   "nbconvert_exporter": "python",
   "pygments_lexer": "ipython3",
   "version": "3.9.9"
  }
 },
 "nbformat": 4,
 "nbformat_minor": 5
}
