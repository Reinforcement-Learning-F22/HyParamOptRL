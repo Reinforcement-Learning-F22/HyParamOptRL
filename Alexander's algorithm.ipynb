{
 "cells": [
  {
   "cell_type": "code",
   "execution_count": 22,
   "metadata": {},
   "outputs": [],
   "source": [
    "import os\n",
    "import random\n",
    "import itertools\n",
    "import cv2 as cv\n",
    "import numpy as np\n",
    "import tensorflow as tf\n",
    "from sklearn import metrics\n",
    "from tensorflow import keras\n",
    "from collections import Counter\n",
    "import matplotlib.pyplot as plt\n",
    "from tensorflow.keras.models import Sequential\n",
    "from sklearn.model_selection import train_test_split\n",
    "from tensorflow.keras.layers import Dense, Conv2D, MaxPooling2D, Flatten"
   ]
  },
  {
   "cell_type": "code",
   "execution_count": 23,
   "metadata": {},
   "outputs": [
    {
     "name": "stderr",
     "output_type": "stream",
     "text": [
      "C:\\Users\\72684\\AppData\\Roaming\\Python\\Python37\\site-packages\\ipykernel_launcher.py:13: VisibleDeprecationWarning: Creating an ndarray from ragged nested sequences (which is a list-or-tuple of lists-or-tuples-or ndarrays with different lengths or shapes) is deprecated. If you meant to do this, you must specify 'dtype=object' when creating the ndarray.\n",
      "  del sys.path[0]\n",
      "C:\\Users\\72684\\AppData\\Roaming\\Python\\Python37\\site-packages\\ipykernel_launcher.py:14: VisibleDeprecationWarning: Creating an ndarray from ragged nested sequences (which is a list-or-tuple of lists-or-tuples-or ndarrays with different lengths or shapes) is deprecated. If you meant to do this, you must specify 'dtype=object' when creating the ndarray.\n",
      "  \n"
     ]
    }
   ],
   "source": [
    "np.random.seed(7)\n",
    "female = []\n",
    "male = []\n",
    "\n",
    "for i in os.listdir('C:/Users/72684/Desktop/Reinforcement Learning/Female'):\n",
    "    path = 'C:/Users/72684/Desktop/Reinforcement Learning/Female/{}'.format(i)\n",
    "    female.append([cv.imread(path, cv.IMREAD_COLOR) / 255, 0])\n",
    "\n",
    "for i in os.listdir('C:/Users/72684/Desktop/Reinforcement Learning/Male'):\n",
    "    path = 'C:/Users/72684/Desktop/Reinforcement Learning/Male/{}'.format(i)\n",
    "    male.append([cv.imread(path, cv.IMREAD_COLOR) / 255, 1])\n",
    "\n",
    "female = np.array(female)\n",
    "male = np.array(male)\n",
    "\n",
    "f_trn, f_tst = train_test_split(female, test_size = 0.2)\n",
    "m_trn, m_tst = train_test_split(male, test_size = 0.2)\n",
    "\n",
    "train = []\n",
    "test = []\n",
    "\n",
    "for i in range(len(f_trn)):\n",
    "    train.append(f_trn[i])\n",
    "    \n",
    "for i in range(len(m_trn)):\n",
    "    train.append(m_trn[i])\n",
    "\n",
    "for i in range(len(f_tst)):\n",
    "    test.append(f_tst[i])\n",
    "\n",
    "for i in range(len(m_tst)):\n",
    "    test.append(m_tst[i])\n",
    "\n",
    "random.seed(7)\n",
    "random.shuffle(train)\n",
    "random.seed(7)\n",
    "random.shuffle(test)\n",
    "\n",
    "train = np.array(train)\n",
    "test = np.array(test)\n",
    "\n",
    "trn_d = []\n",
    "tst_d = []\n",
    "\n",
    "trn_l = np.zeros(len(train))\n",
    "tst_l = np.zeros(len(test))\n",
    "\n",
    "for i in range(len(train)):\n",
    "    trn_l[i] = train[i, 1]\n",
    "    trn_d.append(train[i, 0])\n",
    "\n",
    "for i in range(len(test)):\n",
    "    tst_l[i] = test[i, 1]\n",
    "    tst_d.append(test[i, 0])\n",
    "\n",
    "trn_d = np.array(trn_d)\n",
    "tst_d = np.array(tst_d)"
   ]
  },
  {
   "cell_type": "code",
   "execution_count": 24,
   "metadata": {},
   "outputs": [],
   "source": [
    "def build_model(krnl1, krnl2, krnl3, dns_lr, maps):\n",
    "    tf.random.set_seed(7)\n",
    "    \n",
    "    mdl = Sequential()\n",
    "    \n",
    "    mdl.add(Conv2D(maps, krnl1, activation = 'relu', input_shape = (48, 48, 3), padding = \"same\"))\n",
    "    mdl.add(MaxPooling2D(2, 2))\n",
    "    \n",
    "    mdl.add(Conv2D(2 * maps, krnl2, activation = 'relu', padding = \"same\"))\n",
    "    mdl.add(MaxPooling2D(2, 2))\n",
    "    \n",
    "    mdl.add(Conv2D(4 * maps, krnl3, activation = 'relu', padding = \"same\"))\n",
    "    \n",
    "    mdl.add(Flatten())\n",
    "    mdl.add(Dense(dns_lr, activation = 'relu'))\n",
    "    mdl.add(Dense(1, activation = 'sigmoid'))\n",
    "    \n",
    "    mdl.compile(loss = 'binary_crossentropy', optimizer = 'adagrad', metrics = ['accuracy'])\n",
    "    \n",
    "    return mdl"
   ]
  },
  {
   "cell_type": "code",
   "execution_count": 25,
   "metadata": {},
   "outputs": [],
   "source": [
    "def initialize_q_table(state_space, action_space, range_=(-1, 1), zeros=False):\n",
    "    func = np.zeros if zeros else np.random.random\n",
    "    qtable = (not zeros) * range_[0] + (range_[1] - range_[0]) * func((state_space, action_space))\n",
    "    return qtable\n",
    "\n",
    "\n",
    "def epsilon_greedy_policy(qtable, state, epsilon):\n",
    "    # Randomly generate a number between 0 and 1\n",
    "    random_num = np.random.random()\n",
    "    # if random_num > greater than epsilon --> exploitation\n",
    "    if random_num > epsilon:\n",
    "        # Take the action with the highest value given a state\n",
    "        # np.argmax can be useful here\n",
    "        action = np.argmax(qtable[state])\n",
    "    # else --> exploration\n",
    "    else:\n",
    "        action = np.random.choice(np.arange(len(qtable[0])))  # Take a random action\n",
    "    return action\n",
    "\n",
    "\n",
    "def rec_state_path(x, i, depth, path_):\n",
    "    if i > 1000:\n",
    "        i = 1000\n",
    "    if i in path_:\n",
    "        return\n",
    "    path_.append(i)\n",
    "    if depth == 0:\n",
    "        return x[i]\n",
    "    return rec_state_path(x, x[i], depth - 1, path_)\n",
    "\n",
    "\n",
    "def rec_state(x, i, depth):\n",
    "    if i > 1000:\n",
    "        i = 1000\n",
    "    if depth == 0:\n",
    "        return x[i]\n",
    "    return rec_state(x, x[i], depth - 1)\n",
    "\n",
    "\n",
    "def get_best_params(qtable, env, calc_acc=True):\n",
    "    x = [np.argmax(qtable[i]) for i in range(len(qtable))]\n",
    "    y = [\n",
    "        [rec_state(x, i, 2) for i in range(len(qtable))],\n",
    "        [rec_state(x, i, 3) for i in range(len(qtable))]\n",
    "    ]\n",
    "\n",
    "    y1 = np.zeros(len(qtable[0]))\n",
    "    for i in range(len(qtable[0])):\n",
    "        path = []\n",
    "        rec_state_path(x, i, len(qtable[0]), path)\n",
    "        for p in path:\n",
    "            y1[p] += 1\n",
    "    states = [Counter(i).most_common()[0][0] for i in y] + [np.argmax(y1)]\n",
    "    if calc_acc:\n",
    "        accs = [env.step(i)[1] for i in states]\n",
    "        return [[{k: v for k, v in zip(env.params_names, env.comb[state])}, acc] for state, acc in zip(states, accs)]\n",
    "    else:\n",
    "        return [{k: v for k, v in zip(env.params_names, env.comb[state])} for state in states]"
   ]
  },
  {
   "cell_type": "code",
   "execution_count": 26,
   "metadata": {},
   "outputs": [],
   "source": [
    "class ObjModel:\n",
    "    def __init__(self, base_model, params, data):\n",
    "        self.data = data\n",
    "        self.params = params\n",
    "        self.params_names = self.params.keys()\n",
    "        self.comb = self.gen_comb()\n",
    "        self.observation_space_n = len(self.comb)\n",
    "        self.action_space_n = len(self.comb)\n",
    "        self.base_model = base_model\n",
    "        self.model = None\n",
    "        self.reset()\n",
    "\n",
    "    def reset(self):\n",
    "        state = self.goto_state(0)\n",
    "        return state\n",
    "\n",
    "    def goto_state(self, state):\n",
    "        prms = {k: v for k, v in zip(self.params_names, self.comb[state])}\n",
    "        prms = np.array(list(prms.items()))[:, 1]\n",
    "        prms = prms.astype(np.int)\n",
    "        self.model = self.base_model((prms[2], prms[2]), (prms[3], prms[3]), (prms[4], prms[4]), prms[5], prms[6])\n",
    "        return state\n",
    "\n",
    "    def train(self, state):\n",
    "        prms = {k: v for k, v in zip(self.params_names, self.comb[state])}\n",
    "        prms = np.array(list(prms.items()))[:, 1]\n",
    "        prms = prms.astype(np.int)\n",
    "        tf.random.set_seed(7)\n",
    "        self.model.fit(self.data[0], self.data[1], epochs = prms[0], batch_size = prms[1], validation_data = (tst_d, tst_l), \n",
    "            verbose = False)\n",
    "\n",
    "    def reward(self):\n",
    "        return self.model.evaluate(self.data[2], self.data[3], verbose = False)[1]\n",
    "\n",
    "    def gen_comb(self):\n",
    "        comb = list(itertools.product(*[self.params[i] for i in self.params]))\n",
    "        return comb\n",
    "\n",
    "    def step(self, action):\n",
    "        state = self.goto_state(action)\n",
    "        self.train(state)\n",
    "        r = self.reward()\n",
    "        return state, r\n",
    "\n",
    "\n",
    "def train(epsilon, decay_rate, env, max_steps, qtable, gamma, learning_rate):\n",
    "    episode_rewards = [[], []]\n",
    "    reward_old = 0\n",
    "    reward_best = 0\n",
    "    # Reset the environment\n",
    "    state = env.reset()\n",
    "\n",
    "    # repeat\n",
    "    for step in range(max_steps):\n",
    "        # Choose the action At using epsilon greedy policy\n",
    "        action = epsilon_greedy_policy(qtable, state, epsilon * np.exp(-decay_rate * step))\n",
    "\n",
    "        # Take action At and observe Rt+1 and St+1\n",
    "        # Take the action (a) and observe the outcome state(s') and reward (r)\n",
    "        new_state, reward_ = env.step(action)\n",
    "        reward = reward_ if reward_ >= reward_old else (reward_ - reward_old) * 10\n",
    "        if reward_ > reward_best:\n",
    "            if step > 0:\n",
    "                reward *= 2\n",
    "            reward_best = reward_\n",
    "        reward_old = reward_\n",
    "\n",
    "        action_ = epsilon_greedy_policy(qtable, new_state, epsilon)\n",
    "\n",
    "        # Update Q(s,a)\n",
    "        qtable[state][action] += learning_rate * (\n",
    "                reward + gamma * qtable[new_state][action_] - qtable[state][action])\n",
    "\n",
    "        # Our state is the new state\n",
    "        state = new_state\n",
    "        episode_rewards[0].append(reward_)\n",
    "        episode_rewards[1].append(reward)\n",
    "    return qtable, episode_rewards"
   ]
  },
  {
   "cell_type": "code",
   "execution_count": 27,
   "metadata": {},
   "outputs": [
    {
     "name": "stderr",
     "output_type": "stream",
     "text": [
      "C:\\Users\\72684\\AppData\\Roaming\\Python\\Python37\\site-packages\\ipykernel_launcher.py:20: DeprecationWarning: `np.int` is a deprecated alias for the builtin `int`. To silence this warning, use `int` by itself. Doing this will not modify any behavior and is safe. When replacing `np.int`, you may wish to use e.g. `np.int64` or `np.int32` to specify the precision. If you wish to review your current use, check the release note link for additional information.\n",
      "Deprecated in NumPy 1.20; for more details and guidance: https://numpy.org/devdocs/release/1.20.0-notes.html#deprecations\n"
     ]
    }
   ],
   "source": [
    "# Environment parameters\n",
    "params = {\n",
    "            'epochs': np.arange(5, 36, 10), \n",
    "            'batch_size': np.arange(5, 36, 10),\n",
    "            'kernel_1': [3, 5, 7],\n",
    "            'kernel_2': [3, 5, 7],\n",
    "            'kernel_3': [3, 5, 7],\n",
    "            'dense_layer': np.arange(70, 131, 30),\n",
    "            'maps': np.arange(8, 25, 8)\n",
    "        }\n",
    "data = (trn_d, trn_l, tst_d, tst_l)\n",
    "env = ObjModel(build_model, params, data)     # environment\n",
    "# Training parameters\n",
    "learning_rate = 1          # Learning rate\n",
    "max_steps = 20            # Max steps per episode\n",
    "gamma = 0.9                 # Discounting rate\n",
    "\n",
    "# Exploration parameters\n",
    "epsilon = 1.0\n",
    "decay_rate = 0.005            # Exponential decay rate for exploration prob"
   ]
  },
  {
   "cell_type": "code",
   "execution_count": 28,
   "metadata": {},
   "outputs": [
    {
     "name": "stderr",
     "output_type": "stream",
     "text": [
      "C:\\Users\\72684\\AppData\\Roaming\\Python\\Python37\\site-packages\\ipykernel_launcher.py:20: DeprecationWarning: `np.int` is a deprecated alias for the builtin `int`. To silence this warning, use `int` by itself. Doing this will not modify any behavior and is safe. When replacing `np.int`, you may wish to use e.g. `np.int64` or `np.int32` to specify the precision. If you wish to review your current use, check the release note link for additional information.\n",
      "Deprecated in NumPy 1.20; for more details and guidance: https://numpy.org/devdocs/release/1.20.0-notes.html#deprecations\n",
      "C:\\Users\\72684\\AppData\\Roaming\\Python\\Python37\\site-packages\\ipykernel_launcher.py:27: DeprecationWarning: `np.int` is a deprecated alias for the builtin `int`. To silence this warning, use `int` by itself. Doing this will not modify any behavior and is safe. When replacing `np.int`, you may wish to use e.g. `np.int64` or `np.int32` to specify the precision. If you wish to review your current use, check the release note link for additional information.\n",
      "Deprecated in NumPy 1.20; for more details and guidance: https://numpy.org/devdocs/release/1.20.0-notes.html#deprecations\n",
      "C:\\Users\\72684\\AppData\\Roaming\\Python\\Python37\\site-packages\\ipykernel_launcher.py:20: DeprecationWarning: `np.int` is a deprecated alias for the builtin `int`. To silence this warning, use `int` by itself. Doing this will not modify any behavior and is safe. When replacing `np.int`, you may wish to use e.g. `np.int64` or `np.int32` to specify the precision. If you wish to review your current use, check the release note link for additional information.\n",
      "Deprecated in NumPy 1.20; for more details and guidance: https://numpy.org/devdocs/release/1.20.0-notes.html#deprecations\n",
      "C:\\Users\\72684\\AppData\\Roaming\\Python\\Python37\\site-packages\\ipykernel_launcher.py:27: DeprecationWarning: `np.int` is a deprecated alias for the builtin `int`. To silence this warning, use `int` by itself. Doing this will not modify any behavior and is safe. When replacing `np.int`, you may wish to use e.g. `np.int64` or `np.int32` to specify the precision. If you wish to review your current use, check the release note link for additional information.\n",
      "Deprecated in NumPy 1.20; for more details and guidance: https://numpy.org/devdocs/release/1.20.0-notes.html#deprecations\n",
      "C:\\Users\\72684\\AppData\\Roaming\\Python\\Python37\\site-packages\\ipykernel_launcher.py:20: DeprecationWarning: `np.int` is a deprecated alias for the builtin `int`. To silence this warning, use `int` by itself. Doing this will not modify any behavior and is safe. When replacing `np.int`, you may wish to use e.g. `np.int64` or `np.int32` to specify the precision. If you wish to review your current use, check the release note link for additional information.\n",
      "Deprecated in NumPy 1.20; for more details and guidance: https://numpy.org/devdocs/release/1.20.0-notes.html#deprecations\n",
      "C:\\Users\\72684\\AppData\\Roaming\\Python\\Python37\\site-packages\\ipykernel_launcher.py:27: DeprecationWarning: `np.int` is a deprecated alias for the builtin `int`. To silence this warning, use `int` by itself. Doing this will not modify any behavior and is safe. When replacing `np.int`, you may wish to use e.g. `np.int64` or `np.int32` to specify the precision. If you wish to review your current use, check the release note link for additional information.\n",
      "Deprecated in NumPy 1.20; for more details and guidance: https://numpy.org/devdocs/release/1.20.0-notes.html#deprecations\n",
      "C:\\Users\\72684\\AppData\\Roaming\\Python\\Python37\\site-packages\\ipykernel_launcher.py:20: DeprecationWarning: `np.int` is a deprecated alias for the builtin `int`. To silence this warning, use `int` by itself. Doing this will not modify any behavior and is safe. When replacing `np.int`, you may wish to use e.g. `np.int64` or `np.int32` to specify the precision. If you wish to review your current use, check the release note link for additional information.\n",
      "Deprecated in NumPy 1.20; for more details and guidance: https://numpy.org/devdocs/release/1.20.0-notes.html#deprecations\n",
      "C:\\Users\\72684\\AppData\\Roaming\\Python\\Python37\\site-packages\\ipykernel_launcher.py:27: DeprecationWarning: `np.int` is a deprecated alias for the builtin `int`. To silence this warning, use `int` by itself. Doing this will not modify any behavior and is safe. When replacing `np.int`, you may wish to use e.g. `np.int64` or `np.int32` to specify the precision. If you wish to review your current use, check the release note link for additional information.\n",
      "Deprecated in NumPy 1.20; for more details and guidance: https://numpy.org/devdocs/release/1.20.0-notes.html#deprecations\n",
      "C:\\Users\\72684\\AppData\\Roaming\\Python\\Python37\\site-packages\\ipykernel_launcher.py:20: DeprecationWarning: `np.int` is a deprecated alias for the builtin `int`. To silence this warning, use `int` by itself. Doing this will not modify any behavior and is safe. When replacing `np.int`, you may wish to use e.g. `np.int64` or `np.int32` to specify the precision. If you wish to review your current use, check the release note link for additional information.\n",
      "Deprecated in NumPy 1.20; for more details and guidance: https://numpy.org/devdocs/release/1.20.0-notes.html#deprecations\n",
      "C:\\Users\\72684\\AppData\\Roaming\\Python\\Python37\\site-packages\\ipykernel_launcher.py:27: DeprecationWarning: `np.int` is a deprecated alias for the builtin `int`. To silence this warning, use `int` by itself. Doing this will not modify any behavior and is safe. When replacing `np.int`, you may wish to use e.g. `np.int64` or `np.int32` to specify the precision. If you wish to review your current use, check the release note link for additional information.\n",
      "Deprecated in NumPy 1.20; for more details and guidance: https://numpy.org/devdocs/release/1.20.0-notes.html#deprecations\n",
      "C:\\Users\\72684\\AppData\\Roaming\\Python\\Python37\\site-packages\\ipykernel_launcher.py:20: DeprecationWarning: `np.int` is a deprecated alias for the builtin `int`. To silence this warning, use `int` by itself. Doing this will not modify any behavior and is safe. When replacing `np.int`, you may wish to use e.g. `np.int64` or `np.int32` to specify the precision. If you wish to review your current use, check the release note link for additional information.\n",
      "Deprecated in NumPy 1.20; for more details and guidance: https://numpy.org/devdocs/release/1.20.0-notes.html#deprecations\n",
      "C:\\Users\\72684\\AppData\\Roaming\\Python\\Python37\\site-packages\\ipykernel_launcher.py:27: DeprecationWarning: `np.int` is a deprecated alias for the builtin `int`. To silence this warning, use `int` by itself. Doing this will not modify any behavior and is safe. When replacing `np.int`, you may wish to use e.g. `np.int64` or `np.int32` to specify the precision. If you wish to review your current use, check the release note link for additional information.\n",
      "Deprecated in NumPy 1.20; for more details and guidance: https://numpy.org/devdocs/release/1.20.0-notes.html#deprecations\n",
      "C:\\Users\\72684\\AppData\\Roaming\\Python\\Python37\\site-packages\\ipykernel_launcher.py:20: DeprecationWarning: `np.int` is a deprecated alias for the builtin `int`. To silence this warning, use `int` by itself. Doing this will not modify any behavior and is safe. When replacing `np.int`, you may wish to use e.g. `np.int64` or `np.int32` to specify the precision. If you wish to review your current use, check the release note link for additional information.\n",
      "Deprecated in NumPy 1.20; for more details and guidance: https://numpy.org/devdocs/release/1.20.0-notes.html#deprecations\n",
      "C:\\Users\\72684\\AppData\\Roaming\\Python\\Python37\\site-packages\\ipykernel_launcher.py:27: DeprecationWarning: `np.int` is a deprecated alias for the builtin `int`. To silence this warning, use `int` by itself. Doing this will not modify any behavior and is safe. When replacing `np.int`, you may wish to use e.g. `np.int64` or `np.int32` to specify the precision. If you wish to review your current use, check the release note link for additional information.\n",
      "Deprecated in NumPy 1.20; for more details and guidance: https://numpy.org/devdocs/release/1.20.0-notes.html#deprecations\n",
      "C:\\Users\\72684\\AppData\\Roaming\\Python\\Python37\\site-packages\\ipykernel_launcher.py:20: DeprecationWarning: `np.int` is a deprecated alias for the builtin `int`. To silence this warning, use `int` by itself. Doing this will not modify any behavior and is safe. When replacing `np.int`, you may wish to use e.g. `np.int64` or `np.int32` to specify the precision. If you wish to review your current use, check the release note link for additional information.\n",
      "Deprecated in NumPy 1.20; for more details and guidance: https://numpy.org/devdocs/release/1.20.0-notes.html#deprecations\n",
      "C:\\Users\\72684\\AppData\\Roaming\\Python\\Python37\\site-packages\\ipykernel_launcher.py:27: DeprecationWarning: `np.int` is a deprecated alias for the builtin `int`. To silence this warning, use `int` by itself. Doing this will not modify any behavior and is safe. When replacing `np.int`, you may wish to use e.g. `np.int64` or `np.int32` to specify the precision. If you wish to review your current use, check the release note link for additional information.\n",
      "Deprecated in NumPy 1.20; for more details and guidance: https://numpy.org/devdocs/release/1.20.0-notes.html#deprecations\n"
     ]
    },
    {
     "name": "stderr",
     "output_type": "stream",
     "text": [
      "C:\\Users\\72684\\AppData\\Roaming\\Python\\Python37\\site-packages\\ipykernel_launcher.py:20: DeprecationWarning: `np.int` is a deprecated alias for the builtin `int`. To silence this warning, use `int` by itself. Doing this will not modify any behavior and is safe. When replacing `np.int`, you may wish to use e.g. `np.int64` or `np.int32` to specify the precision. If you wish to review your current use, check the release note link for additional information.\n",
      "Deprecated in NumPy 1.20; for more details and guidance: https://numpy.org/devdocs/release/1.20.0-notes.html#deprecations\n",
      "C:\\Users\\72684\\AppData\\Roaming\\Python\\Python37\\site-packages\\ipykernel_launcher.py:27: DeprecationWarning: `np.int` is a deprecated alias for the builtin `int`. To silence this warning, use `int` by itself. Doing this will not modify any behavior and is safe. When replacing `np.int`, you may wish to use e.g. `np.int64` or `np.int32` to specify the precision. If you wish to review your current use, check the release note link for additional information.\n",
      "Deprecated in NumPy 1.20; for more details and guidance: https://numpy.org/devdocs/release/1.20.0-notes.html#deprecations\n",
      "C:\\Users\\72684\\AppData\\Roaming\\Python\\Python37\\site-packages\\ipykernel_launcher.py:20: DeprecationWarning: `np.int` is a deprecated alias for the builtin `int`. To silence this warning, use `int` by itself. Doing this will not modify any behavior and is safe. When replacing `np.int`, you may wish to use e.g. `np.int64` or `np.int32` to specify the precision. If you wish to review your current use, check the release note link for additional information.\n",
      "Deprecated in NumPy 1.20; for more details and guidance: https://numpy.org/devdocs/release/1.20.0-notes.html#deprecations\n",
      "C:\\Users\\72684\\AppData\\Roaming\\Python\\Python37\\site-packages\\ipykernel_launcher.py:27: DeprecationWarning: `np.int` is a deprecated alias for the builtin `int`. To silence this warning, use `int` by itself. Doing this will not modify any behavior and is safe. When replacing `np.int`, you may wish to use e.g. `np.int64` or `np.int32` to specify the precision. If you wish to review your current use, check the release note link for additional information.\n",
      "Deprecated in NumPy 1.20; for more details and guidance: https://numpy.org/devdocs/release/1.20.0-notes.html#deprecations\n",
      "C:\\Users\\72684\\AppData\\Roaming\\Python\\Python37\\site-packages\\ipykernel_launcher.py:20: DeprecationWarning: `np.int` is a deprecated alias for the builtin `int`. To silence this warning, use `int` by itself. Doing this will not modify any behavior and is safe. When replacing `np.int`, you may wish to use e.g. `np.int64` or `np.int32` to specify the precision. If you wish to review your current use, check the release note link for additional information.\n",
      "Deprecated in NumPy 1.20; for more details and guidance: https://numpy.org/devdocs/release/1.20.0-notes.html#deprecations\n",
      "C:\\Users\\72684\\AppData\\Roaming\\Python\\Python37\\site-packages\\ipykernel_launcher.py:27: DeprecationWarning: `np.int` is a deprecated alias for the builtin `int`. To silence this warning, use `int` by itself. Doing this will not modify any behavior and is safe. When replacing `np.int`, you may wish to use e.g. `np.int64` or `np.int32` to specify the precision. If you wish to review your current use, check the release note link for additional information.\n",
      "Deprecated in NumPy 1.20; for more details and guidance: https://numpy.org/devdocs/release/1.20.0-notes.html#deprecations\n",
      "C:\\Users\\72684\\AppData\\Roaming\\Python\\Python37\\site-packages\\ipykernel_launcher.py:20: DeprecationWarning: `np.int` is a deprecated alias for the builtin `int`. To silence this warning, use `int` by itself. Doing this will not modify any behavior and is safe. When replacing `np.int`, you may wish to use e.g. `np.int64` or `np.int32` to specify the precision. If you wish to review your current use, check the release note link for additional information.\n",
      "Deprecated in NumPy 1.20; for more details and guidance: https://numpy.org/devdocs/release/1.20.0-notes.html#deprecations\n",
      "C:\\Users\\72684\\AppData\\Roaming\\Python\\Python37\\site-packages\\ipykernel_launcher.py:27: DeprecationWarning: `np.int` is a deprecated alias for the builtin `int`. To silence this warning, use `int` by itself. Doing this will not modify any behavior and is safe. When replacing `np.int`, you may wish to use e.g. `np.int64` or `np.int32` to specify the precision. If you wish to review your current use, check the release note link for additional information.\n",
      "Deprecated in NumPy 1.20; for more details and guidance: https://numpy.org/devdocs/release/1.20.0-notes.html#deprecations\n",
      "C:\\Users\\72684\\AppData\\Roaming\\Python\\Python37\\site-packages\\ipykernel_launcher.py:20: DeprecationWarning: `np.int` is a deprecated alias for the builtin `int`. To silence this warning, use `int` by itself. Doing this will not modify any behavior and is safe. When replacing `np.int`, you may wish to use e.g. `np.int64` or `np.int32` to specify the precision. If you wish to review your current use, check the release note link for additional information.\n",
      "Deprecated in NumPy 1.20; for more details and guidance: https://numpy.org/devdocs/release/1.20.0-notes.html#deprecations\n",
      "C:\\Users\\72684\\AppData\\Roaming\\Python\\Python37\\site-packages\\ipykernel_launcher.py:27: DeprecationWarning: `np.int` is a deprecated alias for the builtin `int`. To silence this warning, use `int` by itself. Doing this will not modify any behavior and is safe. When replacing `np.int`, you may wish to use e.g. `np.int64` or `np.int32` to specify the precision. If you wish to review your current use, check the release note link for additional information.\n",
      "Deprecated in NumPy 1.20; for more details and guidance: https://numpy.org/devdocs/release/1.20.0-notes.html#deprecations\n",
      "C:\\Users\\72684\\AppData\\Roaming\\Python\\Python37\\site-packages\\ipykernel_launcher.py:20: DeprecationWarning: `np.int` is a deprecated alias for the builtin `int`. To silence this warning, use `int` by itself. Doing this will not modify any behavior and is safe. When replacing `np.int`, you may wish to use e.g. `np.int64` or `np.int32` to specify the precision. If you wish to review your current use, check the release note link for additional information.\n",
      "Deprecated in NumPy 1.20; for more details and guidance: https://numpy.org/devdocs/release/1.20.0-notes.html#deprecations\n",
      "C:\\Users\\72684\\AppData\\Roaming\\Python\\Python37\\site-packages\\ipykernel_launcher.py:27: DeprecationWarning: `np.int` is a deprecated alias for the builtin `int`. To silence this warning, use `int` by itself. Doing this will not modify any behavior and is safe. When replacing `np.int`, you may wish to use e.g. `np.int64` or `np.int32` to specify the precision. If you wish to review your current use, check the release note link for additional information.\n",
      "Deprecated in NumPy 1.20; for more details and guidance: https://numpy.org/devdocs/release/1.20.0-notes.html#deprecations\n",
      "C:\\Users\\72684\\AppData\\Roaming\\Python\\Python37\\site-packages\\ipykernel_launcher.py:20: DeprecationWarning: `np.int` is a deprecated alias for the builtin `int`. To silence this warning, use `int` by itself. Doing this will not modify any behavior and is safe. When replacing `np.int`, you may wish to use e.g. `np.int64` or `np.int32` to specify the precision. If you wish to review your current use, check the release note link for additional information.\n",
      "Deprecated in NumPy 1.20; for more details and guidance: https://numpy.org/devdocs/release/1.20.0-notes.html#deprecations\n",
      "C:\\Users\\72684\\AppData\\Roaming\\Python\\Python37\\site-packages\\ipykernel_launcher.py:27: DeprecationWarning: `np.int` is a deprecated alias for the builtin `int`. To silence this warning, use `int` by itself. Doing this will not modify any behavior and is safe. When replacing `np.int`, you may wish to use e.g. `np.int64` or `np.int32` to specify the precision. If you wish to review your current use, check the release note link for additional information.\n",
      "Deprecated in NumPy 1.20; for more details and guidance: https://numpy.org/devdocs/release/1.20.0-notes.html#deprecations\n",
      "C:\\Users\\72684\\AppData\\Roaming\\Python\\Python37\\site-packages\\ipykernel_launcher.py:20: DeprecationWarning: `np.int` is a deprecated alias for the builtin `int`. To silence this warning, use `int` by itself. Doing this will not modify any behavior and is safe. When replacing `np.int`, you may wish to use e.g. `np.int64` or `np.int32` to specify the precision. If you wish to review your current use, check the release note link for additional information.\n",
      "Deprecated in NumPy 1.20; for more details and guidance: https://numpy.org/devdocs/release/1.20.0-notes.html#deprecations\n",
      "C:\\Users\\72684\\AppData\\Roaming\\Python\\Python37\\site-packages\\ipykernel_launcher.py:27: DeprecationWarning: `np.int` is a deprecated alias for the builtin `int`. To silence this warning, use `int` by itself. Doing this will not modify any behavior and is safe. When replacing `np.int`, you may wish to use e.g. `np.int64` or `np.int32` to specify the precision. If you wish to review your current use, check the release note link for additional information.\n",
      "Deprecated in NumPy 1.20; for more details and guidance: https://numpy.org/devdocs/release/1.20.0-notes.html#deprecations\n"
     ]
    },
    {
     "name": "stderr",
     "output_type": "stream",
     "text": [
      "C:\\Users\\72684\\AppData\\Roaming\\Python\\Python37\\site-packages\\ipykernel_launcher.py:20: DeprecationWarning: `np.int` is a deprecated alias for the builtin `int`. To silence this warning, use `int` by itself. Doing this will not modify any behavior and is safe. When replacing `np.int`, you may wish to use e.g. `np.int64` or `np.int32` to specify the precision. If you wish to review your current use, check the release note link for additional information.\n",
      "Deprecated in NumPy 1.20; for more details and guidance: https://numpy.org/devdocs/release/1.20.0-notes.html#deprecations\n",
      "C:\\Users\\72684\\AppData\\Roaming\\Python\\Python37\\site-packages\\ipykernel_launcher.py:27: DeprecationWarning: `np.int` is a deprecated alias for the builtin `int`. To silence this warning, use `int` by itself. Doing this will not modify any behavior and is safe. When replacing `np.int`, you may wish to use e.g. `np.int64` or `np.int32` to specify the precision. If you wish to review your current use, check the release note link for additional information.\n",
      "Deprecated in NumPy 1.20; for more details and guidance: https://numpy.org/devdocs/release/1.20.0-notes.html#deprecations\n",
      "C:\\Users\\72684\\AppData\\Roaming\\Python\\Python37\\site-packages\\ipykernel_launcher.py:20: DeprecationWarning: `np.int` is a deprecated alias for the builtin `int`. To silence this warning, use `int` by itself. Doing this will not modify any behavior and is safe. When replacing `np.int`, you may wish to use e.g. `np.int64` or `np.int32` to specify the precision. If you wish to review your current use, check the release note link for additional information.\n",
      "Deprecated in NumPy 1.20; for more details and guidance: https://numpy.org/devdocs/release/1.20.0-notes.html#deprecations\n",
      "C:\\Users\\72684\\AppData\\Roaming\\Python\\Python37\\site-packages\\ipykernel_launcher.py:27: DeprecationWarning: `np.int` is a deprecated alias for the builtin `int`. To silence this warning, use `int` by itself. Doing this will not modify any behavior and is safe. When replacing `np.int`, you may wish to use e.g. `np.int64` or `np.int32` to specify the precision. If you wish to review your current use, check the release note link for additional information.\n",
      "Deprecated in NumPy 1.20; for more details and guidance: https://numpy.org/devdocs/release/1.20.0-notes.html#deprecations\n",
      "C:\\Users\\72684\\AppData\\Roaming\\Python\\Python37\\site-packages\\ipykernel_launcher.py:20: DeprecationWarning: `np.int` is a deprecated alias for the builtin `int`. To silence this warning, use `int` by itself. Doing this will not modify any behavior and is safe. When replacing `np.int`, you may wish to use e.g. `np.int64` or `np.int32` to specify the precision. If you wish to review your current use, check the release note link for additional information.\n",
      "Deprecated in NumPy 1.20; for more details and guidance: https://numpy.org/devdocs/release/1.20.0-notes.html#deprecations\n",
      "C:\\Users\\72684\\AppData\\Roaming\\Python\\Python37\\site-packages\\ipykernel_launcher.py:27: DeprecationWarning: `np.int` is a deprecated alias for the builtin `int`. To silence this warning, use `int` by itself. Doing this will not modify any behavior and is safe. When replacing `np.int`, you may wish to use e.g. `np.int64` or `np.int32` to specify the precision. If you wish to review your current use, check the release note link for additional information.\n",
      "Deprecated in NumPy 1.20; for more details and guidance: https://numpy.org/devdocs/release/1.20.0-notes.html#deprecations\n",
      "C:\\Users\\72684\\AppData\\Roaming\\Python\\Python37\\site-packages\\ipykernel_launcher.py:20: DeprecationWarning: `np.int` is a deprecated alias for the builtin `int`. To silence this warning, use `int` by itself. Doing this will not modify any behavior and is safe. When replacing `np.int`, you may wish to use e.g. `np.int64` or `np.int32` to specify the precision. If you wish to review your current use, check the release note link for additional information.\n",
      "Deprecated in NumPy 1.20; for more details and guidance: https://numpy.org/devdocs/release/1.20.0-notes.html#deprecations\n",
      "C:\\Users\\72684\\AppData\\Roaming\\Python\\Python37\\site-packages\\ipykernel_launcher.py:27: DeprecationWarning: `np.int` is a deprecated alias for the builtin `int`. To silence this warning, use `int` by itself. Doing this will not modify any behavior and is safe. When replacing `np.int`, you may wish to use e.g. `np.int64` or `np.int32` to specify the precision. If you wish to review your current use, check the release note link for additional information.\n",
      "Deprecated in NumPy 1.20; for more details and guidance: https://numpy.org/devdocs/release/1.20.0-notes.html#deprecations\n",
      "C:\\Users\\72684\\AppData\\Roaming\\Python\\Python37\\site-packages\\ipykernel_launcher.py:20: DeprecationWarning: `np.int` is a deprecated alias for the builtin `int`. To silence this warning, use `int` by itself. Doing this will not modify any behavior and is safe. When replacing `np.int`, you may wish to use e.g. `np.int64` or `np.int32` to specify the precision. If you wish to review your current use, check the release note link for additional information.\n",
      "Deprecated in NumPy 1.20; for more details and guidance: https://numpy.org/devdocs/release/1.20.0-notes.html#deprecations\n",
      "C:\\Users\\72684\\AppData\\Roaming\\Python\\Python37\\site-packages\\ipykernel_launcher.py:27: DeprecationWarning: `np.int` is a deprecated alias for the builtin `int`. To silence this warning, use `int` by itself. Doing this will not modify any behavior and is safe. When replacing `np.int`, you may wish to use e.g. `np.int64` or `np.int32` to specify the precision. If you wish to review your current use, check the release note link for additional information.\n",
      "Deprecated in NumPy 1.20; for more details and guidance: https://numpy.org/devdocs/release/1.20.0-notes.html#deprecations\n",
      "C:\\Users\\72684\\AppData\\Roaming\\Python\\Python37\\site-packages\\ipykernel_launcher.py:20: DeprecationWarning: `np.int` is a deprecated alias for the builtin `int`. To silence this warning, use `int` by itself. Doing this will not modify any behavior and is safe. When replacing `np.int`, you may wish to use e.g. `np.int64` or `np.int32` to specify the precision. If you wish to review your current use, check the release note link for additional information.\n",
      "Deprecated in NumPy 1.20; for more details and guidance: https://numpy.org/devdocs/release/1.20.0-notes.html#deprecations\n",
      "C:\\Users\\72684\\AppData\\Roaming\\Python\\Python37\\site-packages\\ipykernel_launcher.py:27: DeprecationWarning: `np.int` is a deprecated alias for the builtin `int`. To silence this warning, use `int` by itself. Doing this will not modify any behavior and is safe. When replacing `np.int`, you may wish to use e.g. `np.int64` or `np.int32` to specify the precision. If you wish to review your current use, check the release note link for additional information.\n",
      "Deprecated in NumPy 1.20; for more details and guidance: https://numpy.org/devdocs/release/1.20.0-notes.html#deprecations\n",
      "C:\\Users\\72684\\AppData\\Roaming\\Python\\Python37\\site-packages\\ipykernel_launcher.py:20: DeprecationWarning: `np.int` is a deprecated alias for the builtin `int`. To silence this warning, use `int` by itself. Doing this will not modify any behavior and is safe. When replacing `np.int`, you may wish to use e.g. `np.int64` or `np.int32` to specify the precision. If you wish to review your current use, check the release note link for additional information.\n",
      "Deprecated in NumPy 1.20; for more details and guidance: https://numpy.org/devdocs/release/1.20.0-notes.html#deprecations\n",
      "C:\\Users\\72684\\AppData\\Roaming\\Python\\Python37\\site-packages\\ipykernel_launcher.py:27: DeprecationWarning: `np.int` is a deprecated alias for the builtin `int`. To silence this warning, use `int` by itself. Doing this will not modify any behavior and is safe. When replacing `np.int`, you may wish to use e.g. `np.int64` or `np.int32` to specify the precision. If you wish to review your current use, check the release note link for additional information.\n",
      "Deprecated in NumPy 1.20; for more details and guidance: https://numpy.org/devdocs/release/1.20.0-notes.html#deprecations\n"
     ]
    }
   ],
   "source": [
    "state_space = env.observation_space_n # TODO\n",
    "action_space = env.action_space_n # TODO\n",
    "Qtable_init_s = initialize_q_table(state_space, action_space)\n",
    "\n",
    "Qtable_s, episod_rewards_s = train(epsilon, decay_rate, env, max_steps, Qtable_init_s, gamma, learning_rate)\n",
    "\n",
    "params = get_best_params(Qtable_s, env, calc_acc=True)"
   ]
  },
  {
   "cell_type": "code",
   "execution_count": 29,
   "metadata": {},
   "outputs": [
    {
     "name": "stdout",
     "output_type": "stream",
     "text": [
      "[0.7, 0.7, 0.725] best acc: 0.725\n"
     ]
    }
   ],
   "source": [
    "accs = [i[1] for i in params]\n",
    "print(accs, 'best acc:', np.max(accs))"
   ]
  },
  {
   "cell_type": "code",
   "execution_count": 30,
   "metadata": {},
   "outputs": [
    {
     "name": "stdout",
     "output_type": "stream",
     "text": [
      "best params: {'epochs': 15, 'batch_size': 5, 'kernel_1': 3, 'kernel_2': 5, 'kernel_3': 3, 'dense_layer': 70, 'maps': 16}\n"
     ]
    }
   ],
   "source": [
    "print('best params:', params[np.argmax(accs)][0])"
   ]
  },
  {
   "cell_type": "code",
   "execution_count": 31,
   "metadata": {},
   "outputs": [
    {
     "data": {
      "image/png": "[encoded data removed]",
      "text/plain": [
       "<Figure size 432x288 with 1 Axes>"
      ]
     },
     "metadata": {
      "needs_background": "light"
     },
     "output_type": "display_data"
    }
   ],
   "source": [
    "#plt.plot(episod_rewards)\n",
    "#plt.plot(np.cumsum(episod_rewards_s[1]))\n",
    "plt.plot(episod_rewards_s[0])\n",
    "#plt.plot(episod_rewards_s[1])\n",
    "plt.grid()\n",
    "plt.xlabel('Learning steps')\n",
    "plt.ylabel('Accuracy')\n",
    "plt.show()"
   ]
  },
  {
   "cell_type": "code",
   "execution_count": 32,
   "metadata": {},
   "outputs": [
    {
     "data": {
      "image/png": "[encoded data removed]",
      "text/plain": [
       "<Figure size 432x288 with 1 Axes>"
      ]
     },
     "metadata": {
      "needs_background": "light"
     },
     "output_type": "display_data"
    }
   ],
   "source": [
    "#plt.plot(episod_rewards)\n",
    "plt.plot(np.cumsum(episod_rewards_s[1]))\n",
    "#plt.plot(episod_rewards_s[0])\n",
    "#plt.plot(episod_rewards_s[1])\n",
    "plt.grid()\n",
    "plt.xlabel('Learning steps')\n",
    "plt.ylabel('Cumulative reward')\n",
    "plt.show()"
   ]
  },
  {
   "cell_type": "code",
   "execution_count": 14,
   "metadata": {},
   "outputs": [
    {
     "data": {
      "text/plain": [
       "array([ 4,  7, 10, 13, 16, 19, 22, 25, 28, 31])"
      ]
     },
     "execution_count": 14,
     "metadata": {},
     "output_type": "execute_result"
    }
   ],
   "source": [
    "np.arange(4, 33, 3)"
   ]
  },
  {
   "cell_type": "code",
   "execution_count": null,
   "metadata": {},
   "outputs": [],
   "source": []
  }
 ],
 "metadata": {
  "kernelspec": {
   "display_name": "Python 3",
   "language": "python",
   "name": "python3"
  },
  "language_info": {
   "codemirror_mode": {
    "name": "ipython",
    "version": 3
   },
   "file_extension": ".py",
   "mimetype": "text/x-python",
   "name": "python",
   "nbconvert_exporter": "python",
   "pygments_lexer": "ipython3",
   "version": "3.7.9"
  }
 },
 "nbformat": 4,
 "nbformat_minor": 4
}
