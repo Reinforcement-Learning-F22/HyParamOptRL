{
 "cells": [
  {
   "cell_type": "code",
   "execution_count": 1,
   "metadata": {
    "collapsed": true
   },
   "outputs": [],
   "source": [
    "import numpy as np\n",
    "from sklearn.datasets import load_iris\n",
    "from sklearn.linear_model import SGDClassifier\n",
    "from sklearn.ensemble import RandomForestClassifier\n",
    "from sklearn.linear_model import PassiveAggressiveClassifier\n",
    "from sklearn.neighbors import KNeighborsClassifier\n",
    "\n",
    "from sklearn.model_selection import train_test_split\n",
    "from utils import initialize_q_table, get_best_params\n",
    "from RLOpt import ObjModel, train"
   ]
  },
  {
   "cell_type": "code",
   "execution_count": 2,
   "outputs": [],
   "source": [
    "# Load dataset\n",
    "X, y = load_iris(return_X_y=True)\n",
    "X_train, X_test, y_train, y_test = train_test_split(X, y, test_size=0.33, random_state=42)\n",
    "\n",
    "data = (X_train, y_train, X_test, y_test)"
   ],
   "metadata": {
    "collapsed": false
   }
  },
  {
   "cell_type": "markdown",
   "source": [
    "# 1) Random forests Classifier\n",
    "\n",
    "### Definig parameters"
   ],
   "metadata": {
    "collapsed": false
   }
  },
  {
   "cell_type": "code",
   "execution_count": 3,
   "outputs": [],
   "source": [
    "# Model parameters\n",
    "params = {\n",
    "            'n_estimators': np.arange(100, 400, 10),\n",
    "            'criterion': ['gini', 'entropy', 'log_loss'],\n",
    "            'max_features': ['sqrt', 'log2', None],\n",
    "            'bootstrap': [True, False]\n",
    "        }\n",
    "\n",
    "# Environment parameters\n",
    "env = ObjModel(RandomForestClassifier, params, data)     # environment\n",
    "# Training parameters\n",
    "learning_rate = 1          # Learning rate\n",
    "max_steps = int(env.observation_space_n / 2)            # Max steps per episode\n",
    "gamma = 0.9                # Discounting rate\n",
    "\n",
    "epsilon = 1.0\n",
    "decay_rate = 0.005         # Exponential decay rate for exploration prob\n",
    "state_space = env.observation_space_n\n",
    "action_space = env.action_space_n"
   ],
   "metadata": {
    "collapsed": false
   }
  },
  {
   "cell_type": "markdown",
   "source": [
    "### Learning Q-Table"
   ],
   "metadata": {
    "collapsed": false
   }
  },
  {
   "cell_type": "code",
   "execution_count": 4,
   "outputs": [
    {
     "name": "stderr",
     "output_type": "stream",
     "text": [
      "100%|██████████| 270/270 [00:40<00:00,  6.72it/s]\n"
     ]
    }
   ],
   "source": [
    "### Learning Q-Table\n",
    "Qtable_init_s = initialize_q_table(state_space, action_space)\n",
    "Qtable_s, episod_rewards_s, best_a = train(epsilon, decay_rate, env, max_steps, Qtable_init_s, gamma, learning_rate)"
   ],
   "metadata": {
    "collapsed": false
   }
  },
  {
   "cell_type": "code",
   "execution_count": 5,
   "outputs": [],
   "source": [
    "best_params = get_best_params(Qtable_s, env) + [[env.get_params_by_state(best_a), best_a]]"
   ],
   "metadata": {
    "collapsed": false
   }
  },
  {
   "cell_type": "markdown",
   "source": [
    "### Evaluate results"
   ],
   "metadata": {
    "collapsed": false
   }
  },
  {
   "cell_type": "code",
   "execution_count": 7,
   "outputs": [
    {
     "name": "stdout",
     "output_type": "stream",
     "text": [
      "State: 516 Accuracy: 0.98\n",
      "State: 511 Accuracy: 0.98\n",
      "State: 381 Accuracy: 0.98\n"
     ]
    }
   ],
   "source": [
    "states = []\n",
    "vals = []\n",
    "for i in best_params:\n",
    "    states.append(i[1])\n",
    "    vals.append(env.step(i[1])[1])\n",
    "    print('State:', i[1], f'Accuracy: {env.step(i[1])[1]}')\n"
   ],
   "metadata": {
    "collapsed": false
   }
  },
  {
   "cell_type": "code",
   "execution_count": 8,
   "outputs": [
    {
     "name": "stdout",
     "output_type": "stream",
     "text": [
      "best acc: 0.98\n",
      "best params: {'n_estimators': 380, 'criterion': 'log_loss', 'max_features': 'sqrt', 'bootstrap': True}\n"
     ]
    }
   ],
   "source": [
    "print('best acc:', np.max(vals))\n",
    "print('best params:', env.get_params_by_state(states[np.argmax(vals)]))"
   ],
   "metadata": {
    "collapsed": false
   }
  },
  {
   "cell_type": "markdown",
   "source": [
    "# 2) SGD Classifier"
   ],
   "metadata": {
    "collapsed": false
   }
  },
  {
   "cell_type": "code",
   "execution_count": 18,
   "outputs": [],
   "source": [
    "# Model parameters\n",
    "params = {\n",
    "    'penalty': ['l2', 'l1', 'elasticnet'],\n",
    "    'loss': ['log_loss', 'hinge', 'modified_huber', 'squared_hinge', 'perceptron'],\n",
    "    'random_state': [0],\n",
    "    'alpha': np.arange(0.0001, 0.01, 0.001)\n",
    "}\n",
    "\n",
    "# Environment parameters\n",
    "env = ObjModel(SGDClassifier, params, data)  # environment\n",
    "# Training parameters\n",
    "learning_rate = 1  # Learning rate\n",
    "max_steps = int(env.observation_space_n / 2)  # Max steps per episode\n",
    "gamma = 0.9  # Discounting rate\n",
    "\n",
    "epsilon = 1.0\n",
    "decay_rate = 0.005  # Exponential decay rate for exploration prob\n",
    "state_space = env.observation_space_n\n",
    "action_space = env.action_space_n\n",
    "### Learning Q-Table"
   ],
   "metadata": {
    "collapsed": false
   }
  },
  {
   "cell_type": "markdown",
   "source": [
    "### Learning Q-Table"
   ],
   "metadata": {
    "collapsed": false
   }
  },
  {
   "cell_type": "code",
   "execution_count": 19,
   "outputs": [
    {
     "name": "stderr",
     "output_type": "stream",
     "text": [
      "100%|██████████| 75/75 [00:00<00:00, 792.97it/s]\n"
     ]
    }
   ],
   "source": [
    "Qtable_init_s = initialize_q_table(state_space, action_space)\n",
    "Qtable_s, episod_rewards_s, best_a = train(epsilon, decay_rate, env, max_steps, Qtable_init_s, gamma, learning_rate)"
   ],
   "metadata": {
    "collapsed": false
   }
  },
  {
   "cell_type": "code",
   "execution_count": 20,
   "outputs": [],
   "source": [
    "best_params = get_best_params(Qtable_s, env) + [[env.get_params_by_state(best_a), best_a]]"
   ],
   "metadata": {
    "collapsed": false
   }
  },
  {
   "cell_type": "markdown",
   "source": [
    "### Evaluate results"
   ],
   "metadata": {
    "collapsed": false
   }
  },
  {
   "cell_type": "code",
   "execution_count": 23,
   "outputs": [
    {
     "name": "stdout",
     "output_type": "stream",
     "text": [
      "State: 53 Accuracy: 0.92\n",
      "State: 53 Accuracy: 0.92\n",
      "State: 9 Accuracy: 1.0\n"
     ]
    }
   ],
   "source": [
    "states = []\n",
    "vals = []\n",
    "for i in best_params:\n",
    "    states.append(i[1])\n",
    "    vals.append(env.step(i[1])[1])\n",
    "    print('State:', i[1], f'Accuracy: {env.step(i[1])[1]}')"
   ],
   "metadata": {
    "collapsed": false
   }
  },
  {
   "cell_type": "code",
   "execution_count": 24,
   "outputs": [
    {
     "name": "stdout",
     "output_type": "stream",
     "text": [
      "best acc: 1.0\n",
      "best params: {'penalty': 'l2', 'loss': 'log_loss', 'random_state': 0, 'alpha': 0.0091}\n"
     ]
    }
   ],
   "source": [
    "print('best acc:', np.max(vals))\n",
    "print('best params:', env.get_params_by_state(states[np.argmax(vals)]))"
   ],
   "metadata": {
    "collapsed": false
   }
  },
  {
   "cell_type": "markdown",
   "source": [
    "# 3) Passive Aggressive Classifier"
   ],
   "metadata": {
    "collapsed": false
   }
  },
  {
   "cell_type": "code",
   "execution_count": 25,
   "outputs": [],
   "source": [
    "# Model parameters\n",
    "params = {\n",
    "    'C': np.arange(0.05, 5, 0.05),\n",
    "    'loss': ['hinge', 'squared_hinge'],\n",
    "    'fit_intercept': [True, False],\n",
    "    'n_jobs': [-1] # The maximum CPU cores count\n",
    "}\n",
    "\n",
    "# Environment parameters\n",
    "env = ObjModel(PassiveAggressiveClassifier, params, data)  # environment\n",
    "# Training parameters\n",
    "learning_rate = 1  # Learning rate\n",
    "max_steps = int(env.observation_space_n / 2)  # Max steps per episode\n",
    "gamma = 0.9  # Discounting rate\n",
    "\n",
    "epsilon = 1.0\n",
    "decay_rate = 0.005  # Exponential decay rate for exploration prob\n",
    "state_space = env.observation_space_n\n",
    "action_space = env.action_space_n\n",
    "### Learning Q-Table"
   ],
   "metadata": {
    "collapsed": false
   }
  },
  {
   "cell_type": "markdown",
   "source": [
    "### Learning Q-Table"
   ],
   "metadata": {
    "collapsed": false
   }
  },
  {
   "cell_type": "code",
   "execution_count": 26,
   "outputs": [
    {
     "name": "stderr",
     "output_type": "stream",
     "text": [
      "100%|██████████| 198/198 [00:01<00:00, 150.78it/s]\n"
     ]
    }
   ],
   "source": [
    "Qtable_init_s = initialize_q_table(state_space, action_space)\n",
    "Qtable_s, episod_rewards_s, best_a = train(epsilon, decay_rate, env, max_steps, Qtable_init_s, gamma, learning_rate)"
   ],
   "metadata": {
    "collapsed": false
   }
  },
  {
   "cell_type": "code",
   "execution_count": 27,
   "outputs": [],
   "source": [
    "best_params = get_best_params(Qtable_s, env) + [[env.get_params_by_state(best_a), best_a]]"
   ],
   "metadata": {
    "collapsed": false
   }
  },
  {
   "cell_type": "markdown",
   "source": [
    "### Evaluate results"
   ],
   "metadata": {
    "collapsed": false
   }
  },
  {
   "cell_type": "code",
   "execution_count": 28,
   "outputs": [
    {
     "name": "stdout",
     "output_type": "stream",
     "text": [
      "State: 86 Accuracy: 0.94\n",
      "State: 77 Accuracy: 0.82\n",
      "State: 42 Accuracy: 0.88\n"
     ]
    }
   ],
   "source": [
    "states = []\n",
    "vals = []\n",
    "for i in best_params:\n",
    "    states.append(i[1])\n",
    "    vals.append(env.step(i[1])[1])\n",
    "    print('State:', i[1], f'Accuracy: {env.step(i[1])[1]}')"
   ],
   "metadata": {
    "collapsed": false
   }
  },
  {
   "cell_type": "code",
   "execution_count": 29,
   "outputs": [
    {
     "name": "stdout",
     "output_type": "stream",
     "text": [
      "best acc: 1.0\n",
      "best params: {'C': 1.1, 'loss': 'squared_hinge', 'fit_intercept': True, 'n_jobs': -1}\n"
     ]
    }
   ],
   "source": [
    "print('best acc:', np.max(vals))\n",
    "print('best params:', env.get_params_by_state(states[np.argmax(vals)]))"
   ],
   "metadata": {
    "collapsed": false
   }
  },
  {
   "cell_type": "markdown",
   "source": [
    "# 4) KNeighbors Classifier"
   ],
   "metadata": {
    "collapsed": false
   }
  },
  {
   "cell_type": "code",
   "execution_count": 30,
   "outputs": [],
   "source": [
    "# 3) Passive Aggressive Classifier\n",
    "# Model parameters\n",
    "params = {\n",
    "    'n_neighbors': np.arange(5, 100, 15),\n",
    "    'weights': ['uniform', 'distance'],\n",
    "    'algorithm' :['auto', 'ball_tree', 'kd_tree', 'brute'],\n",
    "    'leaf_size':  np.arange(10, 100, 10)\n",
    "}\n",
    "\n",
    "# Environment parameters\n",
    "env = ObjModel(KNeighborsClassifier, params, data)  # environment\n",
    "# Training parameters\n",
    "learning_rate = 1  # Learning rate\n",
    "max_steps = int(env.observation_space_n / 2)  # Max steps per episode\n",
    "gamma = 0.9  # Discounting rate\n",
    "\n",
    "epsilon = 1.0\n",
    "decay_rate = 0.005  # Exponential decay rate for exploration prob\n",
    "state_space = env.observation_space_n\n",
    "action_space = env.action_space_n"
   ],
   "metadata": {
    "collapsed": false
   }
  },
  {
   "cell_type": "markdown",
   "source": [
    "### Learning Q-Table"
   ],
   "metadata": {
    "collapsed": false
   }
  },
  {
   "cell_type": "code",
   "execution_count": 31,
   "outputs": [
    {
     "name": "stderr",
     "output_type": "stream",
     "text": [
      "100%|██████████| 252/252 [00:01<00:00, 249.29it/s]\n"
     ]
    }
   ],
   "source": [
    "Qtable_init_s = initialize_q_table(state_space, action_space)\n",
    "Qtable_s, episod_rewards_s, best_a = train(epsilon, decay_rate, env, max_steps, Qtable_init_s, gamma, learning_rate)"
   ],
   "metadata": {
    "collapsed": false
   }
  },
  {
   "cell_type": "code",
   "execution_count": 32,
   "outputs": [],
   "source": [
    "best_params = get_best_params(Qtable_s, env) + [[env.get_params_by_state(best_a), best_a]]"
   ],
   "metadata": {
    "collapsed": false
   }
  },
  {
   "cell_type": "markdown",
   "source": [
    "### Evaluate results"
   ],
   "metadata": {
    "collapsed": false
   }
  },
  {
   "cell_type": "code",
   "execution_count": 33,
   "outputs": [
    {
     "name": "stdout",
     "output_type": "stream",
     "text": [
      "State: 228 Accuracy: 0.92\n",
      "State: 203 Accuracy: 1.0\n",
      "State: 175 Accuracy: 1.0\n"
     ]
    }
   ],
   "source": [
    "states = []\n",
    "vals = []\n",
    "for i in best_params:\n",
    "    states.append(i[1])\n",
    "    vals.append(env.step(i[1])[1])\n",
    "    print('State:', i[1], f'Accuracy: {env.step(i[1])[1]}')"
   ],
   "metadata": {
    "collapsed": false
   }
  },
  {
   "cell_type": "code",
   "execution_count": 34,
   "outputs": [
    {
     "name": "stdout",
     "output_type": "stream",
     "text": [
      "best acc: 1.0\n",
      "best params: {'n_neighbors': 35, 'weights': 'distance', 'algorithm': 'kd_tree', 'leaf_size': 60}\n"
     ]
    }
   ],
   "source": [
    "print('best acc:', np.max(vals))\n",
    "print('best params:', env.get_params_by_state(states[np.argmax(vals)]))"
   ],
   "metadata": {
    "collapsed": false
   }
  },
  {
   "cell_type": "code",
   "execution_count": null,
   "outputs": [],
   "source": [],
   "metadata": {
    "collapsed": false
   }
  }
 ],
 "metadata": {
  "kernelspec": {
   "display_name": "Python 3",
   "language": "python",
   "name": "python3"
  },
  "language_info": {
   "codemirror_mode": {
    "name": "ipython",
    "version": 2
   },
   "file_extension": ".py",
   "mimetype": "text/x-python",
   "name": "python",
   "nbconvert_exporter": "python",
   "pygments_lexer": "ipython2",
   "version": "2.7.6"
  }
 },
 "nbformat": 4,
 "nbformat_minor": 0
}
