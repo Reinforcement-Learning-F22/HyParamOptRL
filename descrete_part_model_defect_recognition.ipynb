{
 "cells": [
  {
   "cell_type": "code",
   "execution_count": 1,
   "metadata": {
    "collapsed": true
   },
   "outputs": [],
   "source": [
    "import numpy as np\n",
    "import matplotlib.pyplot as plt\n",
    "from sklearn.model_selection import train_test_split\n",
    "from utils import initialize_q_table, get_best_params\n",
    "from RLOpt import ObjModel, train\n",
    "import model_defect_recognition_data_Loader\n",
    "import tensorflow as tf\n",
    "import shell_model_defect_recognition"
   ]
  },
  {
   "cell_type": "code",
   "execution_count": 2,
   "outputs": [],
   "source": [
    "# Defect recognition model part\n",
    "\n",
    "# model parameters space\n",
    "params = {\n",
    "            'activation_input': ['relu', 'sigmoid', 'tanh'],\n",
    "            'activation_output': ['sigmoid', 'relu'],\n",
    "            'optimizer': [tf.keras.optimizers.Adam(), tf.keras.optimizers.RMSprop()]\n",
    "}"
   ],
   "metadata": {
    "collapsed": false
   }
  },
  {
   "cell_type": "code",
   "execution_count": 3,
   "outputs": [
    {
     "name": "stdout",
     "output_type": "stream",
     "text": [
      "Found .txt files (60449) in C:\\Users\\Ruslan\\Documents\\TVEMA\\DataSet\\dataset_copy\\Group5\\53\n",
      "Found .json files (1) in C:\\Users\\Ruslan\\Documents\\TVEMA\\DataSet\\dataset_copy\\Group5\\53\n",
      "Created defect catalog info at: C:\\Users\\Ruslan\\Documents\\TVEMA\\DataSet\\dataset_copy\\Group5\\data_info.json\n",
      "-------------------------------- loading start ---------------------------------\n"
     ]
    },
    {
     "name": "stderr",
     "output_type": "stream",
     "text": [
      "100%|██████████| 60449/60449 [01:54<00:00, 529.55it/s]  \n"
     ]
    },
    {
     "name": "stdout",
     "output_type": "stream",
     "text": [
      "Total files count in dir (.txt): 60449\n",
      "Loaded images files with extension (.txt) count: 12923\n",
      "Labels count: 12923\n",
      "Skipped files (.txt): 47526\n",
      "Train images shape: (6400, 4, 150, 128)\n",
      "Test images shape: (1600, 4, 150, 128)\n",
      "Train labels shape: (6400, 4)\n",
      "Test labels shape: (1600, 4)\n"
     ]
    }
   ],
   "source": [
    "# Data init\n",
    "txt_path = r'C:\\Users\\Ruslan\\Documents\\TVEMA\\DataSet\\dataset_copy\\Group5\\53'\n",
    "test_way = model_defect_recognition_data_Loader.TxtDataSetFilesLoading(txt_path, '.txt', np.uint8,\n",
    "                                            r\"C:\\Users\\Ruslan\\Documents\\TVEMA\\DataSet\\dataset_copy\\Group5\\data_info.json\",\n",
    "                                            True)\n",
    "\n",
    "images, labels = test_way.load_files(\"defect\", \"all\", \"multiple_ch\")\n",
    "\n",
    "# Scaling\n",
    "images = images / 255\n",
    "\n",
    "# decrease dataset size because of memory limit\n",
    "images = images[:8000]\n",
    "labels = labels[:8000]\n",
    "\n",
    "# Splitting\n",
    "train_images, test_images, train_labels, test_labels = train_test_split(images, labels, test_size=0.2)\n",
    "\n",
    "data = (train_images, train_labels, test_images, test_labels)\n",
    "\n",
    "print(\"Train images shape: {}\".format(data[0].shape))\n",
    "print(\"Test images shape: {}\".format(data[2].shape))\n",
    "\n",
    "print(\"Train labels shape: {}\".format(data[1].shape))\n",
    "print(\"Test labels shape: {}\".format(data[3].shape))"
   ],
   "metadata": {
    "collapsed": false
   }
  },
  {
   "cell_type": "code",
   "execution_count": 4,
   "outputs": [],
   "source": [
    "env = ObjModel(shell_model_defect_recognition.ModelDefectRecognition, params, data)     # environment\n",
    "# Training parameters\n",
    "learning_rate = 1          # Learning rate\n",
    "max_steps = int(env.observation_space_n / 2)            # Max steps per episode\n",
    "gamma = 0.9                 # Discounting rate\n",
    "\n",
    "# Exploration parameters\n",
    "epsilon = 1.0\n",
    "decay_rate = 0.005            # Exponential decay rate for exploration prob"
   ],
   "metadata": {
    "collapsed": false
   }
  },
  {
   "cell_type": "code",
   "execution_count": 5,
   "outputs": [
    {
     "name": "stdout",
     "output_type": "stream",
     "text": [
      "x_train shape:  (6400, 4, 150, 128)\n",
      "Epoch 1/10\n",
      "200/200 [==============================] - 10s 10ms/step - loss: 0.2636 - precision_2: 0.8962\n",
      "Epoch 2/10\n",
      "200/200 [==============================] - 2s 10ms/step - loss: 0.0618 - precision_2: 0.9940\n",
      "Epoch 3/10\n",
      "200/200 [==============================] - 2s 9ms/step - loss: 0.0290 - precision_2: 0.9987\n",
      "Epoch 4/10\n",
      "200/200 [==============================] - 2s 10ms/step - loss: 0.0170 - precision_2: 0.9995\n",
      "Epoch 5/10\n",
      "200/200 [==============================] - 2s 10ms/step - loss: 0.0117 - precision_2: 0.9996\n",
      "Epoch 6/10\n",
      "200/200 [==============================] - 2s 10ms/step - loss: 0.0088 - precision_2: 0.9997\n",
      "Epoch 7/10\n",
      "200/200 [==============================] - 2s 10ms/step - loss: 0.0067 - precision_2: 0.9999\n",
      "Epoch 8/10\n",
      "200/200 [==============================] - 2s 10ms/step - loss: 0.0054 - precision_2: 1.0000\n",
      "Epoch 9/10\n",
      "200/200 [==============================] - 2s 11ms/step - loss: 0.0044 - precision_2: 1.0000\n",
      "Epoch 10/10\n",
      "200/200 [==============================] - 2s 10ms/step - loss: 0.1282 - precision_2: 0.9390\n",
      "50/50 [==============================] - 1s 7ms/step - loss: 0.1830 - precision_2: 0.8655\n",
      "[0.18298448622226715, 0.8655097484588623]\n",
      "50/50 [==============================] - 0s 7ms/step - loss: 0.1830 - precision_2: 0.8655\n",
      "x_train shape:  (6400, 4, 150, 128)\n",
      "Epoch 1/10\n",
      "200/200 [==============================] - 3s 12ms/step - loss: 4.5781 - precision_3: 0.5094\n",
      "Epoch 2/10\n",
      "200/200 [==============================] - 2s 11ms/step - loss: 4.2813 - precision_3: 0.5140\n",
      "Epoch 3/10\n",
      "200/200 [==============================] - 2s 11ms/step - loss: 4.2809 - precision_3: 0.5139\n",
      "Epoch 4/10\n",
      "200/200 [==============================] - 2s 11ms/step - loss: 4.2815 - precision_3: 0.5128\n",
      "Epoch 5/10\n",
      "200/200 [==============================] - 2s 10ms/step - loss: 4.2809 - precision_3: 0.5151\n",
      "Epoch 6/10\n",
      "200/200 [==============================] - 2s 10ms/step - loss: 4.2813 - precision_3: 0.5145\n",
      "Epoch 7/10\n",
      "200/200 [==============================] - 2s 10ms/step - loss: 4.2811 - precision_3: 0.5137\n",
      "Epoch 8/10\n",
      "200/200 [==============================] - 2s 10ms/step - loss: 4.2812 - precision_3: 0.5158\n",
      "Epoch 9/10\n",
      "200/200 [==============================] - 2s 10ms/step - loss: 4.2810 - precision_3: 0.5194\n",
      "Epoch 10/10\n",
      "200/200 [==============================] - 2s 10ms/step - loss: 4.2815 - precision_3: 0.5098\n",
      "50/50 [==============================] - 1s 8ms/step - loss: 4.2774 - precision_3: 0.5050\n",
      "[4.277397632598877, 0.5049999952316284]\n",
      "50/50 [==============================] - 0s 7ms/step - loss: 4.2774 - precision_3: 0.5050\n",
      "x_train shape:  (6400, 4, 150, 128)\n",
      "Epoch 1/10\n",
      "200/200 [==============================] - 3s 12ms/step - loss: 0.6563 - precision_4: 0.5124\n",
      "Epoch 2/10\n",
      "200/200 [==============================] - 2s 12ms/step - loss: 0.6485 - precision_4: 0.5217\n",
      "Epoch 3/10\n",
      "200/200 [==============================] - 2s 12ms/step - loss: 0.6484 - precision_4: 0.5221\n",
      "Epoch 4/10\n",
      "200/200 [==============================] - 2s 12ms/step - loss: 0.6486 - precision_4: 0.5231\n",
      "Epoch 5/10\n",
      "200/200 [==============================] - 2s 12ms/step - loss: 0.6485 - precision_4: 0.5221\n",
      "Epoch 6/10\n",
      "200/200 [==============================] - 2s 12ms/step - loss: 0.6485 - precision_4: 0.5226\n",
      "Epoch 7/10\n",
      "200/200 [==============================] - 2s 12ms/step - loss: 0.6485 - precision_4: 0.5231\n",
      "Epoch 8/10\n",
      "200/200 [==============================] - 2s 12ms/step - loss: 0.6484 - precision_4: 0.5231\n",
      "Epoch 9/10\n",
      "200/200 [==============================] - 2s 12ms/step - loss: 0.6485 - precision_4: 0.5231\n",
      "Epoch 10/10\n",
      "200/200 [==============================] - 2s 12ms/step - loss: 0.6485 - precision_4: 0.5231\n",
      "50/50 [==============================] - 0s 7ms/step - loss: 0.6448 - precision_4: 0.5050\n",
      "[0.6448283195495605, 0.5049999952316284]\n",
      "50/50 [==============================] - 0s 7ms/step - loss: 0.6448 - precision_4: 0.5050\n",
      "x_train shape:  (6400, 4, 150, 128)\n",
      "Epoch 1/10\n",
      "200/200 [==============================] - 3s 13ms/step - loss: 0.3796 - precision_5: 0.8251\n",
      "Epoch 2/10\n",
      "200/200 [==============================] - 2s 12ms/step - loss: 0.1407 - precision_5: 0.9355\n",
      "Epoch 3/10\n",
      "200/200 [==============================] - 2s 12ms/step - loss: 0.0662 - precision_5: 0.9726\n",
      "Epoch 4/10\n",
      "200/200 [==============================] - 2s 11ms/step - loss: 0.0345 - precision_5: 0.9880\n",
      "Epoch 5/10\n",
      "200/200 [==============================] - 2s 11ms/step - loss: 0.0212 - precision_5: 0.9947\n",
      "Epoch 6/10\n",
      "200/200 [==============================] - 2s 11ms/step - loss: 0.0146 - precision_5: 0.9962\n",
      "Epoch 7/10\n",
      "200/200 [==============================] - 2s 11ms/step - loss: 0.0118 - precision_5: 0.9966\n",
      "Epoch 8/10\n",
      "200/200 [==============================] - 2s 11ms/step - loss: 0.0083 - precision_5: 0.9990\n",
      "Epoch 9/10\n",
      "200/200 [==============================] - 2s 11ms/step - loss: 0.0219 - precision_5: 0.9975\n",
      "Epoch 10/10\n",
      "200/200 [==============================] - 2s 11ms/step - loss: 0.0066 - precision_5: 0.9983\n",
      "50/50 [==============================] - 0s 7ms/step - loss: 0.0031 - precision_5: 0.9996\n",
      "[0.0030731111764907837, 0.999597430229187]\n",
      "50/50 [==============================] - 0s 7ms/step - loss: 0.0031 - precision_5: 0.9996\n",
      "x_train shape:  (6400, 4, 150, 128)\n",
      "Epoch 1/10\n",
      "200/200 [==============================] - 3s 13ms/step - loss: 0.3602 - precision_6: 0.8421\n",
      "Epoch 2/10\n",
      "200/200 [==============================] - 2s 11ms/step - loss: 0.0974 - precision_6: 0.9637\n",
      "Epoch 3/10\n",
      "200/200 [==============================] - 2s 11ms/step - loss: 0.0339 - precision_6: 0.9899\n",
      "Epoch 4/10\n",
      "200/200 [==============================] - 2s 11ms/step - loss: 0.0267 - precision_6: 0.9920\n",
      "Epoch 5/10\n",
      "200/200 [==============================] - 2s 11ms/step - loss: 0.0199 - precision_6: 0.9956\n",
      "Epoch 6/10\n",
      "200/200 [==============================] - 2s 11ms/step - loss: 0.0150 - precision_6: 0.9963\n",
      "Epoch 7/10\n",
      "200/200 [==============================] - 2s 11ms/step - loss: 0.0076 - precision_6: 0.9980\n",
      "Epoch 8/10\n",
      "200/200 [==============================] - 2s 11ms/step - loss: 0.0041 - precision_6: 0.9983\n",
      "Epoch 9/10\n",
      "200/200 [==============================] - 2s 11ms/step - loss: 0.0065 - precision_6: 0.9980\n",
      "Epoch 10/10\n",
      "200/200 [==============================] - 2s 11ms/step - loss: 0.0059 - precision_6: 0.9981\n",
      "50/50 [==============================] - 0s 7ms/step - loss: 0.0018 - precision_6: 0.9988\n",
      "[0.0017926010768860579, 0.9987941980361938]\n",
      "50/50 [==============================] - 0s 7ms/step - loss: 0.0018 - precision_6: 0.9988\n",
      "x_train shape:  (6400, 4, 150, 128)\n",
      "Epoch 1/10\n",
      "200/200 [==============================] - 3s 12ms/step - loss: 6.2741 - precision_7: 0.4749\n",
      "Epoch 2/10\n",
      "200/200 [==============================] - 2s 12ms/step - loss: 6.3108 - precision_7: 0.4744\n",
      "Epoch 3/10\n",
      "200/200 [==============================] - 3s 13ms/step - loss: 6.3108 - precision_7: 0.4744\n",
      "Epoch 4/10\n",
      "200/200 [==============================] - 2s 12ms/step - loss: 6.3108 - precision_7: 0.4744\n",
      "Epoch 5/10\n",
      "200/200 [==============================] - 2s 12ms/step - loss: 6.3108 - precision_7: 0.4744\n",
      "Epoch 6/10\n",
      "200/200 [==============================] - 2s 12ms/step - loss: 6.3108 - precision_7: 0.4744\n",
      "Epoch 7/10\n",
      "200/200 [==============================] - 2s 12ms/step - loss: 6.3108 - precision_7: 0.4744\n",
      "Epoch 8/10\n",
      "200/200 [==============================] - 2s 12ms/step - loss: 6.3108 - precision_7: 0.4744\n",
      "Epoch 9/10\n",
      "200/200 [==============================] - 2s 12ms/step - loss: 6.3108 - precision_7: 0.4744\n",
      "Epoch 10/10\n",
      "200/200 [==============================] - 2s 12ms/step - loss: 6.3108 - precision_7: 0.4744\n",
      "50/50 [==============================] - 1s 8ms/step - loss: 6.1710 - precision_7: 0.4737\n",
      "[6.170963287353516, 0.4737499952316284]\n",
      "50/50 [==============================] - 0s 7ms/step - loss: 6.1710 - precision_7: 0.4737\n",
      "x_train shape:  (6400, 4, 150, 128)\n",
      "Epoch 1/10\n",
      "200/200 [==============================] - 5s 13ms/step - loss: 0.3845 - precision_8: 0.8314\n",
      "Epoch 2/10\n",
      "200/200 [==============================] - 2s 11ms/step - loss: 0.0819 - precision_8: 0.9689\n",
      "Epoch 3/10\n",
      "200/200 [==============================] - 2s 11ms/step - loss: 0.0306 - precision_8: 0.9884\n",
      "Epoch 4/10\n",
      "200/200 [==============================] - 2s 11ms/step - loss: 0.0158 - precision_8: 0.9949\n",
      "Epoch 5/10\n",
      "200/200 [==============================] - 2s 12ms/step - loss: 0.0095 - precision_8: 0.9965\n",
      "Epoch 6/10\n",
      "200/200 [==============================] - 2s 11ms/step - loss: 0.0067 - precision_8: 0.9973\n",
      "Epoch 7/10\n",
      "200/200 [==============================] - 2s 11ms/step - loss: 0.0048 - precision_8: 0.9980\n",
      "Epoch 8/10\n",
      "200/200 [==============================] - 2s 12ms/step - loss: 0.0060 - precision_8: 0.9985\n",
      "Epoch 9/10\n",
      "200/200 [==============================] - 2s 11ms/step - loss: 0.0066 - precision_8: 0.9981\n",
      "Epoch 10/10\n",
      "200/200 [==============================] - 2s 12ms/step - loss: 0.0053 - precision_8: 0.9988\n",
      "50/50 [==============================] - 0s 6ms/step - loss: 0.0027 - precision_8: 0.9992\n",
      "[0.00267488113604486, 0.999194860458374]\n",
      "50/50 [==============================] - 0s 8ms/step - loss: 0.0027 - precision_8: 0.9992\n",
      "x_train shape:  (6400, 4, 150, 128)\n",
      "Epoch 1/10\n",
      "200/200 [==============================] - 3s 13ms/step - loss: 0.3296 - precision_9: 0.8402\n",
      "Epoch 2/10\n",
      "200/200 [==============================] - 2s 11ms/step - loss: 0.0584 - precision_9: 0.9761\n",
      "Epoch 3/10\n",
      "200/200 [==============================] - 2s 11ms/step - loss: 0.0209 - precision_9: 0.9917\n",
      "Epoch 4/10\n",
      "200/200 [==============================] - 2s 11ms/step - loss: 0.0137 - precision_9: 0.9947\n",
      "Epoch 5/10\n",
      "200/200 [==============================] - 2s 11ms/step - loss: 0.0082 - precision_9: 0.9972\n",
      "Epoch 6/10\n",
      "200/200 [==============================] - 2s 11ms/step - loss: 0.0066 - precision_9: 0.9974\n",
      "Epoch 7/10\n",
      "200/200 [==============================] - 2s 11ms/step - loss: 0.0053 - precision_9: 0.9984\n",
      "Epoch 8/10\n",
      "200/200 [==============================] - 2s 11ms/step - loss: 0.0050 - precision_9: 0.9981\n",
      "Epoch 9/10\n",
      "200/200 [==============================] - 2s 11ms/step - loss: 0.0040 - precision_9: 0.9982\n",
      "Epoch 10/10\n",
      "200/200 [==============================] - 2s 11ms/step - loss: 0.0039 - precision_9: 0.9984\n",
      "50/50 [==============================] - 0s 6ms/step - loss: 0.0047 - precision_9: 0.9972\n",
      "[0.004701174329966307, 0.9971887469291687]\n",
      "50/50 [==============================] - 0s 7ms/step - loss: 0.0047 - precision_9: 0.9972\n"
     ]
    }
   ],
   "source": [
    "state_space = env.observation_space_n # TODO\n",
    "action_space = env.action_space_n # TODO\n",
    "\n",
    "Qtable_init_s = initialize_q_table(state_space, action_space)\n",
    "\n",
    "Qtable_s, episod_rewards_s, _ = train(epsilon, decay_rate, env, max_steps, Qtable_init_s, gamma, learning_rate)\n",
    "\n",
    "params = get_best_params(Qtable_s, env, calc_acc=True)"
   ],
   "metadata": {
    "collapsed": false
   }
  },
  {
   "cell_type": "code",
   "execution_count": 12,
   "outputs": [
    {
     "name": "stdout",
     "output_type": "stream",
     "text": [
      "the best parameters:  {'activation_input': 'relu', 'activation_output': 'sigmoid', 'optimizer': <keras.optimizers.optimizer_v2.rmsprop.RMSprop object at 0x000001CF1BD37C10>}\n",
      "the best accuracy:  0.999194860458374\n"
     ]
    }
   ],
   "source": [
    "accuracy = np.asarray([i[1] for i in params])\n",
    "the_best_result = np.argmax(accuracy)\n",
    "\n",
    "print('the best parameters: ', params[the_best_result][0])\n",
    "print('the best accuracy: ', accuracy[the_best_result])"
   ],
   "metadata": {
    "collapsed": false
   }
  },
  {
   "cell_type": "code",
   "execution_count": 10,
   "outputs": [
    {
     "data": {
      "text/plain": "[<matplotlib.lines.Line2D at 0x1d6a569efa0>]"
     },
     "execution_count": 10,
     "metadata": {},
     "output_type": "execute_result"
    },
    {
     "data": {
      "text/plain": "<Figure size 640x480 with 1 Axes>",
      "image/png": "[encoded data removed]"
     },
     "metadata": {},
     "output_type": "display_data"
    }
   ],
   "source": [
    "plt.plot(np.cumsum(episod_rewards_s[1]))\n",
    "plt.plot(episod_rewards_s[0])\n",
    "plt.plot(episod_rewards_s[1])"
   ],
   "metadata": {
    "collapsed": false
   }
  },
  {
   "cell_type": "code",
   "execution_count": null,
   "outputs": [],
   "source": [],
   "metadata": {
    "collapsed": false
   }
  }
 ],
 "metadata": {
  "kernelspec": {
   "display_name": "Python 3",
   "language": "python",
   "name": "python3"
  },
  "language_info": {
   "codemirror_mode": {
    "name": "ipython",
    "version": 2
   },
   "file_extension": ".py",
   "mimetype": "text/x-python",
   "name": "python",
   "nbconvert_exporter": "python",
   "pygments_lexer": "ipython2",
   "version": "2.7.6"
  }
 },
 "nbformat": 4,
 "nbformat_minor": 0
}
