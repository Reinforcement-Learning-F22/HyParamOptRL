{
 "cells": [
  {
   "cell_type": "code",
   "execution_count": 2,
   "metadata": {
    "collapsed": true
   },
   "outputs": [],
   "source": [
    "import numpy as np\n",
    "import matplotlib.pyplot as plt\n",
    "from sklearn.model_selection import train_test_split\n",
    "from utils import epsilon_greedy_policy, initialize_q_table, rec_state, rec_state_path, get_best_params\n",
    "from RLOpt import ObjModel, train\n",
    "\n",
    "import model_defect_recognition_data_Loader\n",
    "import tensorflow as tf\n",
    "import shell_model_defect_recognition"
   ]
  },
  {
   "cell_type": "code",
   "execution_count": 5,
   "outputs": [],
   "source": [
    "# Defect recognition model part\n",
    "\n",
    "# model parameters space\n",
    "params = {\n",
    "            'activation_input': ['relu', 'sigmoid', 'tanh'],\n",
    "            'activation_output': ['sigmoid', 'relu'],\n",
    "            'optimizer': [tf.keras.optimizers.Adam(), tf.keras.optimizers.RMSprop()]\n",
    "}"
   ],
   "metadata": {
    "collapsed": false
   }
  },
  {
   "cell_type": "code",
   "execution_count": 3,
   "outputs": [
    {
     "name": "stdout",
     "output_type": "stream",
     "text": [
      "Found .txt files (60449) in C:\\Users\\Ruslan\\Documents\\TVEMA\\DataSet\\dataset_copy\\Group5\\53\n",
      "Found .json files (1) in C:\\Users\\Ruslan\\Documents\\TVEMA\\DataSet\\dataset_copy\\Group5\\53\n",
      "Created defect catalog info at: C:\\Users\\Ruslan\\Documents\\TVEMA\\DataSet\\dataset_copy\\Group5\\data_info.json\n",
      "-------------------------------- loading start ---------------------------------\n"
     ]
    },
    {
     "name": "stderr",
     "output_type": "stream",
     "text": [
      "100%|██████████| 60449/60449 [01:53<00:00, 534.79it/s]  \n"
     ]
    },
    {
     "name": "stdout",
     "output_type": "stream",
     "text": [
      "Total files count in dir (.txt): 60449\n",
      "Loaded images files with extension (.txt) count: 12923\n",
      "Labels count: 12923\n",
      "Skipped files (.txt): 47526\n",
      "Train images shape: (8000, 4, 150, 128)\n",
      "Test images shape: (2000, 4, 150, 128)\n",
      "Train labels shape: (8000, 4)\n",
      "Test labels shape: (2000, 4)\n"
     ]
    }
   ],
   "source": [
    "# Data init\n",
    "txt_path = r'C:\\Users\\Ruslan\\Documents\\TVEMA\\DataSet\\dataset_copy\\Group5\\53'\n",
    "test_way = model_defect_recognition_data_Loader.TxtDataSetFilesLoading(txt_path, '.txt', np.uint8,\n",
    "                                            r\"C:\\Users\\Ruslan\\Documents\\TVEMA\\DataSet\\dataset_copy\\Group5\\data_info.json\",\n",
    "                                            True)\n",
    "\n",
    "images, labels = test_way.load_files(\"defect\", \"all\", \"multiple_ch\")\n",
    "\n",
    "# Scaling\n",
    "images = images / 255\n",
    "\n",
    "# decrease dataset size because of memory limit\n",
    "images = images[:10000]\n",
    "labels = labels[:10000]\n",
    "\n",
    "# Splitting\n",
    "train_images, test_images, train_labels, test_labels = train_test_split(images, labels, test_size=0.2)\n",
    "\n",
    "data = (train_images, train_labels, test_images, test_labels)\n",
    "\n",
    "print(\"Train images shape: {}\".format(data[0].shape))\n",
    "print(\"Test images shape: {}\".format(data[2].shape))\n",
    "\n",
    "print(\"Train labels shape: {}\".format(data[1].shape))\n",
    "print(\"Test labels shape: {}\".format(data[3].shape))"
   ],
   "metadata": {
    "collapsed": false
   }
  },
  {
   "cell_type": "code",
   "execution_count": 6,
   "outputs": [],
   "source": [
    "env = ObjModel(shell_model_defect_recognition.ModelDefectRecognition, params, data)     # environment\n",
    "# Training parameters\n",
    "learning_rate = 1          # Learning rate\n",
    "max_steps = int(env.observation_space_n / 2)            # Max steps per episode\n",
    "gamma = 0.9                 # Discounting rate\n",
    "\n",
    "# Exploration parameters\n",
    "epsilon = 1.0\n",
    "decay_rate = 0.005            # Exponential decay rate for exploration prob"
   ],
   "metadata": {
    "collapsed": false
   }
  },
  {
   "cell_type": "code",
   "execution_count": null,
   "outputs": [],
   "source": [
    "state_space = env.observation_space_n # TODO\n",
    "action_space = env.action_space_n # TODO\n",
    "\n",
    "print(env.observation_space_n)\n",
    "\n",
    "Qtable_init_s = initialize_q_table(state_space, action_space)\n",
    "\n",
    "Qtable_s, episod_rewards_s = train(epsilon, decay_rate, env, max_steps, Qtable_init_s, gamma, learning_rate)\n",
    "\n",
    "params = get_best_params(Qtable_s, env, calc_acc=True)"
   ],
   "metadata": {
    "collapsed": false
   }
  },
  {
   "cell_type": "code",
   "execution_count": null,
   "outputs": [],
   "source": [
    "accs = [i[1] for i in params]\n",
    "print(accs, 'best acc:', np.max(accs))"
   ],
   "metadata": {
    "collapsed": false
   }
  },
  {
   "cell_type": "code",
   "execution_count": null,
   "outputs": [],
   "source": [
    "print('best params:', params[np.argmax(accs)][0])"
   ],
   "metadata": {
    "collapsed": false
   }
  },
  {
   "cell_type": "code",
   "execution_count": null,
   "outputs": [],
   "source": [
    "plt.plot(np.cumsum(episod_rewards_s[1]))\n",
    "plt.plot(episod_rewards_s[0])\n",
    "plt.plot(episod_rewards_s[1])"
   ],
   "metadata": {
    "collapsed": false
   }
  },
  {
   "cell_type": "code",
   "execution_count": null,
   "outputs": [],
   "source": [],
   "metadata": {
    "collapsed": false
   }
  }
 ],
 "metadata": {
  "kernelspec": {
   "display_name": "Python 3",
   "language": "python",
   "name": "python3"
  },
  "language_info": {
   "codemirror_mode": {
    "name": "ipython",
    "version": 2
   },
   "file_extension": ".py",
   "mimetype": "text/x-python",
   "name": "python",
   "nbconvert_exporter": "python",
   "pygments_lexer": "ipython2",
   "version": "2.7.6"
  }
 },
 "nbformat": 4,
 "nbformat_minor": 0
}
