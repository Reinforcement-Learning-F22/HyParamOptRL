{
 "cells": [
  {
   "cell_type": "code",
   "execution_count": 1,
   "metadata": {},
   "outputs": [],
   "source": [
    "import os\n",
    "import random\n",
    "import cv2 as cv\n",
    "import numpy as np\n",
    "import tensorflow as tf\n",
    "from sklearn import metrics\n",
    "from tensorflow import keras\n",
    "import matplotlib.pyplot as plt\n",
    "from tensorflow.keras.models import Sequential\n",
    "from sklearn.model_selection import train_test_split\n",
    "from tensorflow.keras.layers import Dense, Conv2D, MaxPooling2D, Flatten"
   ]
  },
  {
   "cell_type": "code",
   "execution_count": 35,
   "metadata": {},
   "outputs": [],
   "source": [
    "for i in os.listdir('C:/Users/72684/Desktop/Reinforcement Learning/Female Raw'):\n",
    "    path_i = 'C:/Users/72684/Desktop/Reinforcement Learning/Female Raw/{}'.format(i)\n",
    "    path_f = 'C:/Users/72684/Desktop/Reinforcement Learning/Female/{}'.format(i)\n",
    "    cv.imwrite(path_f, cv.resize(cv.imread(path_i, cv.IMREAD_GRAYSCALE), dsize = (48, 48), interpolation = cv.INTER_AREA))\n",
    "\n",
    "for i in os.listdir('C:/Users/72684/Desktop/Reinforcement Learning/Male Raw'):\n",
    "    path_i = 'C:/Users/72684/Desktop/Reinforcement Learning/Male Raw/{}'.format(i)\n",
    "    path_f = 'C:/Users/72684/Desktop/Reinforcement Learning/Male/{}'.format(i)\n",
    "    cv.imwrite(path_f, cv.resize(cv.imread(path_i, cv.IMREAD_GRAYSCALE), dsize = (48, 48), interpolation = cv.INTER_AREA))"
   ]
  },
  {
   "cell_type": "code",
   "execution_count": 2,
   "metadata": {},
   "outputs": [
    {
     "name": "stderr",
     "output_type": "stream",
     "text": [
      "C:\\Users\\72684\\AppData\\Roaming\\Python\\Python37\\site-packages\\ipykernel_launcher.py:13: VisibleDeprecationWarning: Creating an ndarray from ragged nested sequences (which is a list-or-tuple of lists-or-tuples-or ndarrays with different lengths or shapes) is deprecated. If you meant to do this, you must specify 'dtype=object' when creating the ndarray.\n",
      "  del sys.path[0]\n",
      "C:\\Users\\72684\\AppData\\Roaming\\Python\\Python37\\site-packages\\ipykernel_launcher.py:14: VisibleDeprecationWarning: Creating an ndarray from ragged nested sequences (which is a list-or-tuple of lists-or-tuples-or ndarrays with different lengths or shapes) is deprecated. If you meant to do this, you must specify 'dtype=object' when creating the ndarray.\n",
      "  \n"
     ]
    }
   ],
   "source": [
    "np.random.seed(7)\n",
    "female = []\n",
    "male = []\n",
    "\n",
    "for i in os.listdir('C:/Users/72684/Desktop/Reinforcement Learning/Female'):\n",
    "    path = 'C:/Users/72684/Desktop/Reinforcement Learning/Female/{}'.format(i)\n",
    "    female.append([cv.imread(path, cv.IMREAD_COLOR) / 255, 0])\n",
    "\n",
    "for i in os.listdir('C:/Users/72684/Desktop/Reinforcement Learning/Male'):\n",
    "    path = 'C:/Users/72684/Desktop/Reinforcement Learning/Male/{}'.format(i)\n",
    "    male.append([cv.imread(path, cv.IMREAD_COLOR) / 255, 1])\n",
    "\n",
    "female = np.array(female)\n",
    "male = np.array(male)\n",
    "\n",
    "f_trn, f_tst = train_test_split(female, test_size = 0.2)\n",
    "m_trn, m_tst = train_test_split(male, test_size = 0.2)\n",
    "\n",
    "train = []\n",
    "test = []\n",
    "\n",
    "for i in range(len(f_trn)):\n",
    "    train.append(f_trn[i])\n",
    "    \n",
    "for i in range(len(m_trn)):\n",
    "    train.append(m_trn[i])\n",
    "\n",
    "for i in range(len(f_tst)):\n",
    "    test.append(f_tst[i])\n",
    "\n",
    "for i in range(len(m_tst)):\n",
    "    test.append(m_tst[i])\n",
    "\n",
    "random.shuffle(train)\n",
    "random.shuffle(test)\n",
    "\n",
    "train = np.array(train)\n",
    "test = np.array(test)\n",
    "\n",
    "trn_d = []\n",
    "tst_d = []\n",
    "\n",
    "trn_l = np.zeros(len(train))\n",
    "tst_l = np.zeros(len(test))\n",
    "\n",
    "for i in range(len(train)):\n",
    "    trn_l[i] = train[i, 1]\n",
    "    trn_d.append(train[i, 0])\n",
    "\n",
    "for i in range(len(test)):\n",
    "    tst_l[i] = test[i, 1]\n",
    "    tst_d.append(test[i, 0])\n",
    "\n",
    "trn_d = np.array(trn_d)\n",
    "tst_d = np.array(tst_d)"
   ]
  },
  {
   "cell_type": "code",
   "execution_count": 6,
   "metadata": {},
   "outputs": [
    {
     "name": "stdout",
     "output_type": "stream",
     "text": [
      "INFO:tensorflow:Assets written to: mdl\\assets\n"
     ]
    }
   ],
   "source": [
    "tf.random.set_seed(7)\n",
    "\n",
    "mdl = Sequential()\n",
    "\n",
    "mdl.add(Conv2D(16, 3, activation = 'relu', input_shape = (48, 48, 3), padding = \"same\"))\n",
    "mdl.add(MaxPooling2D(2, 2))\n",
    "\n",
    "mdl.add(Conv2D(32, 3, activation = 'relu', padding = \"same\"))\n",
    "mdl.add(MaxPooling2D(2, 2))\n",
    "\n",
    "mdl.add(Conv2D(64, 3, activation = 'relu', padding = \"same\"))\n",
    "\n",
    "mdl.add(Flatten())\n",
    "mdl.add(Dense(100, activation = 'relu'))\n",
    "mdl.add(Dense(1, activation = 'sigmoid'))\n",
    "\n",
    "mdl.compile(loss = 'binary_crossentropy', optimizer = 'adagrad', metrics = ['accuracy'])\n",
    "mdl.save('mdl')"
   ]
  },
  {
   "cell_type": "code",
   "execution_count": 7,
   "metadata": {},
   "outputs": [],
   "source": [
    "def hyp_prm_fit(epochs, btch_sz, trn_d, trn_l, tst_d, tst_l):\n",
    "    h_p = np.array([epochs, btch_sz])\n",
    "    steps = np.array([0.6, 0.8, 1, 1.2, 1.4])\n",
    "    dt_tp = np.array(['int', 'int'])\n",
    "    h_p_fld = np.zeros(len(steps))\n",
    "    acc = 0\n",
    "    cnt = 0\n",
    "    acc_hst = []\n",
    "    \n",
    "    mdl = keras.models.load_model('mdl')\n",
    "    mdl.fit(trn_d, trn_l, epochs = epochs, batch_size = btch_sz, validation_data = (tst_d, tst_l), verbose = False)\n",
    "    acc = mdl.evaluate(tst_d, tst_l, verbose = False)[1]\n",
    "    acc_hst.append(acc)\n",
    "    print(acc)\n",
    "    \n",
    "    for episode in range(5):\n",
    "        for i in range(len(h_p)):\n",
    "            h_p_fld = np.array(list(set(np.array(h_p[i] * steps, dt_tp[i]))))\n",
    "            print(h_p_fld)\n",
    "            new_acc = np.zeros(len(h_p_fld))\n",
    "            rsrv = h_p[i]\n",
    "            print(h_p)\n",
    "            for val in range(len(h_p_fld)):\n",
    "                h_p[i] = h_p_fld[val]\n",
    "                \n",
    "                mdl = keras.models.load_model('mdl')\n",
    "                mdl.fit(trn_d, trn_l, epochs = h_p[0], batch_size = h_p[1], validation_data = (tst_d, tst_l), verbose = False)\n",
    "                new_acc[val] = mdl.evaluate(tst_d, tst_l, verbose = False)[1]\n",
    "            \n",
    "            \n",
    "            if np.max(new_acc) > acc:\n",
    "                cnt = 0\n",
    "            \n",
    "            else:\n",
    "                cnt += 1\n",
    "            \n",
    "            if h_p_fld[np.argmax(new_acc)] == rsrv:\n",
    "                res_acc = np.copy(new_acc)\n",
    "                res_acc[np.argmax(new_acc)] = 0\n",
    "                \n",
    "                if np.max(res_acc) == np.max(new_acc):\n",
    "                    h_p[i] = h_p_fld[np.argmax(res_acc)]\n",
    "                    acc_hst.append(np.max(res_acc))\n",
    "                    acc = np.max(res_acc)\n",
    "                \n",
    "                else:\n",
    "                    h_p[i] = h_p_fld[np.argmax(new_acc)]\n",
    "                    acc_hst.append(np.max(new_acc))\n",
    "                    acc = np.max(new_acc)\n",
    "            \n",
    "            else:\n",
    "                h_p[i] = h_p_fld[np.argmax(new_acc)]\n",
    "                acc_hst.append(np.max(new_acc))\n",
    "                acc = np.max(new_acc)\n",
    "            \n",
    "            print(new_acc)\n",
    "            \n",
    "            if cnt > len(h_p):\n",
    "                break\n",
    "    \n",
    "    acc_hst = np.array(acc_hst)\n",
    "    print(h_p)\n",
    "    plt.plot(range(len(acc_hst)), acc_hst)\n",
    "    plt.grid()\n",
    "    plt.xlabel('Hyperparameter changes')\n",
    "    plt.ylabel('Accuracy')\n",
    "    plt.show()"
   ]
  },
  {
   "cell_type": "code",
   "execution_count": 8,
   "metadata": {},
   "outputs": [
    {
     "name": "stdout",
     "output_type": "stream",
     "text": [
      "0.675\n",
      "[ 9 12 15 18 21]\n",
      "[15 15]\n",
      "[0.625      0.64999998 0.67500001 0.69999999 0.69999999]\n",
      "[ 9 12 15 18 21]\n",
      "[18 15]\n",
      "[0.67500001 0.64999998 0.69999999 0.64999998 0.64999998]\n",
      "[10 14 18 21 25]\n",
      "[18 15]\n",
      "[0.625      0.67500001 0.69999999 0.69999999 0.69999999]\n",
      "[ 9 12 15 18 21]\n",
      "[21 15]\n",
      "[0.67500001 0.67500001 0.69999999 0.67500001 0.67500001]\n",
      "[12 16 21 25 29]\n",
      "[21 15]\n",
      "[0.64999998 0.64999998 0.69999999 0.69999999 0.69999999]\n",
      "[35 15 20 25 30]\n",
      "[25 15]\n",
      "[0.72500002 0.67500001 0.72500002 0.69999999 0.75      ]\n",
      "[ 9 12 15 18 21]\n",
      "[30 15]\n",
      "[0.72500002 0.72500002 0.75       0.69999999 0.75      ]\n",
      "[36 42 18 24 30]\n",
      "[30 21]\n",
      "[0.75       0.67500001 0.64999998 0.67500001 0.75      ]\n",
      "[12 16 21 25 29]\n",
      "[36 21]\n",
      "[0.77499998 0.75       0.75       0.72500002 0.72500002]\n",
      "[36 12]\n"
     ]
    },
    {
     "data": {
      "image/png": "[encoded data removed]",
      "text/plain": [
       "<Figure size 432x288 with 1 Axes>"
      ]
     },
     "metadata": {
      "needs_background": "light"
     },
     "output_type": "display_data"
    }
   ],
   "source": [
    "tf.random.set_seed(7)\n",
    "hyp_prm_fit(15, 15, trn_d, trn_l, tst_d, tst_l)"
   ]
  },
  {
   "cell_type": "code",
   "execution_count": 5,
   "metadata": {},
   "outputs": [
    {
     "name": "stdout",
     "output_type": "stream",
     "text": [
      "0.7333333492279053\n",
      "[15 15]\n",
      "[0.71666666 0.73333335 0.75       0.73333333 0.75      ]\n",
      "[15 15]\n",
      "[0.725      0.74166667 0.73333333 0.75       0.70000001]\n",
      "[15 18]\n",
      "[0.70833333 0.73333333 0.73333335 0.73333333 0.73333333]\n",
      "[15 18]\n",
      "[0.74999998 0.65       0.74166667 0.725      0.68333336]\n",
      "[15 10]\n",
      "[0.74166667 0.73333333 0.75       0.725      0.75833333]\n",
      "[21 10]\n",
      "[0.77499998 0.75833333 0.74166665 0.73333333 0.68333334]\n",
      "[21  6]\n",
      "[0.73333333 0.72499998 0.775      0.75833333 0.72500002]\n",
      "[21  6]\n",
      "[0.71666668 0.75       0.74166665 0.75833333 0.75      ]\n",
      "[21  7]\n",
      "[0.73333335 0.75833333 0.73333333 0.75833333 0.75833333]\n",
      "[16  7]\n",
      "[0.75833333 0.74999998 0.75833333 0.75       0.725     ]\n",
      "[16  4]\n"
     ]
    },
    {
     "data": {
      "image/png": "[encoded data removed]",
      "text/plain": [
       "<Figure size 432x288 with 1 Axes>"
      ]
     },
     "metadata": {
      "needs_background": "light"
     },
     "output_type": "display_data"
    }
   ],
   "source": [
    "hyp_prm_fit(15, 15, trn_d, trn_l, tst_d, tst_l)"
   ]
  },
  {
   "cell_type": "code",
   "execution_count": 12,
   "metadata": {},
   "outputs": [
    {
     "name": "stdout",
     "output_type": "stream",
     "text": [
      "0.7083333333333334\n",
      "[ 9 12 15 18 21]\n",
      "[15 15]\n",
      "[0.69166666 0.725      0.73333335 0.75       0.75833333]\n",
      "[ 9 12 15 18 21]\n",
      "[21 15]\n",
      "[0.73333335 0.69999999 0.73333333 0.75       0.74166665]\n",
      "[12 16 21 25 29]\n",
      "[21 18]\n",
      "[0.72500002 0.75       0.76666667 0.725      0.75      ]\n",
      "[10 14 18 21 25]\n",
      "[21 18]\n",
      "[0.75833333 0.725      0.70000001 0.70833333 0.69166666]\n",
      "[12 16 21 25 29]\n",
      "[21 10]\n",
      "[0.75833333 0.74166667 0.75       0.75       0.725     ]\n",
      "[ 7  9 12 14 16]\n",
      "[12 10]\n",
      "[0.70833333 0.73333333 0.75       0.72499998 0.75      ]\n",
      "[ 7  9 12 14 16]\n",
      "[12 10]\n",
      "[0.65       0.73333333 0.75       0.74166667 0.75833333]\n",
      "[16 10]\n"
     ]
    },
    {
     "data": {
      "image/png": "[encoded data removed]",
      "text/plain": [
       "<Figure size 432x288 with 1 Axes>"
      ]
     },
     "metadata": {
      "needs_background": "light"
     },
     "output_type": "display_data"
    }
   ],
   "source": [
    "hyp_prm_fit(15, 15, trn_d, trn_l, tst_d, tst_l)"
   ]
  },
  {
   "cell_type": "code",
   "execution_count": 45,
   "metadata": {},
   "outputs": [],
   "source": [
    "def build_model(krnl1, krnl2, krnl3, dns_lr, maps):\n",
    "    tf.random.set_seed(7)\n",
    "    \n",
    "    mdl = Sequential()\n",
    "    \n",
    "    mdl.add(Conv2D(maps, krnl1, activation = 'relu', input_shape = (48, 48, 3), padding = \"same\"))\n",
    "    mdl.add(MaxPooling2D(2, 2))\n",
    "    \n",
    "    mdl.add(Conv2D(2 * maps, krnl2, activation = 'relu', padding = \"same\"))\n",
    "    mdl.add(MaxPooling2D(2, 2))\n",
    "    \n",
    "    mdl.add(Conv2D(4 * maps, krnl3, activation = 'relu', padding = \"same\"))\n",
    "    \n",
    "    mdl.add(Flatten())\n",
    "    mdl.add(Dense(dns_lr, activation = 'relu'))\n",
    "    mdl.add(Dense(1, activation = 'sigmoid'))\n",
    "    \n",
    "    mdl.compile(loss = 'binary_crossentropy', optimizer = 'adagrad', metrics = ['accuracy'])\n",
    "    \n",
    "    return mdl"
   ]
  },
  {
   "cell_type": "code",
   "execution_count": 46,
   "metadata": {},
   "outputs": [],
   "source": [
    "def hyp_prm_fit(epochs, btch_sz, krnl1, krnl2, krnl3, dns_lr, maps, trn_d, trn_l, tst_d, tst_l):\n",
    "    h_p = np.array([epochs, btch_sz, dns_lr, maps, krnl1, krnl2, krnl3])\n",
    "    steps_cntns = np.array([0.6, 0.8, 1, 1.2, 1.4])\n",
    "    steps_dscrt = np.array([3, 5, 7, 9], int)\n",
    "    dt_tp = np.array(['int', 'int', 'int', 'int'])\n",
    "    acc = 0\n",
    "    cnt = 0\n",
    "    acc_hst = []\n",
    "    epchs_hst = []\n",
    "    btch_sz_hst = []\n",
    "    krnl1_hst = []\n",
    "    krnl2_hst = []\n",
    "    krnl3_hst = []\n",
    "    dns_lr_hst = []\n",
    "    maps_hst = []\n",
    "    \n",
    "    mdl = build_model((krnl1, krnl1), (krnl2, krnl2), (krnl3, krnl3), dns_lr, maps)\n",
    "    tf.random.set_seed(7)\n",
    "    mdl.fit(trn_d, trn_l, epochs = epochs, batch_size = btch_sz, validation_data = (tst_d, tst_l), verbose = False)\n",
    "    acc = mdl.evaluate(tst_d, tst_l, verbose = False)[1]\n",
    "    acc_hst.append(acc)\n",
    "    epchs_hst.append(epochs)\n",
    "    btch_sz_hst.append(btch_sz)\n",
    "    krnl1_hst.append(krnl1)\n",
    "    krnl2_hst.append(krnl2)\n",
    "    krnl3_hst.append(krnl3)\n",
    "    dns_lr_hst.append(dns_lr)\n",
    "    maps_hst.append(maps)\n",
    "    print(acc)\n",
    "    \n",
    "    for episode in range(10):\n",
    "        for i in range(len(h_p)):\n",
    "            if i <= 3:\n",
    "                h_p_fld = np.zeros(len(steps_cntns))\n",
    "                h_p_fld = np.array(list(set(np.array(h_p[i] * steps_cntns, dt_tp[i]))))\n",
    "                new_acc = np.zeros(len(h_p_fld))\n",
    "                rsrv = h_p[i]\n",
    "                print(h_p)\n",
    "                print(h_p_fld)\n",
    "            \n",
    "            else:\n",
    "                h_p_fld = np.zeros(len(steps_dscrt))\n",
    "                h_p_fld = np.array(steps_dscrt)\n",
    "                new_acc = np.zeros(len(h_p_fld))\n",
    "                rsrv = h_p[i]\n",
    "                print(h_p)\n",
    "                print(h_p_fld)\n",
    "            \n",
    "            for val in range(len(h_p_fld)):\n",
    "                h_p[i] = h_p_fld[val]\n",
    "                \n",
    "                mdl = build_model((h_p[4], h_p[4]), (h_p[5], h_p[5]), (h_p[6], h_p[6]), h_p[2], h_p[3])\n",
    "                tf.random.set_seed(7)\n",
    "                mdl.fit(trn_d, trn_l, epochs = h_p[0], batch_size = h_p[1], validation_data = (tst_d, tst_l), verbose = False)\n",
    "                new_acc[val] = mdl.evaluate(tst_d, tst_l, verbose = False)[1]\n",
    "            \n",
    "            \n",
    "            if np.max(new_acc) > acc:\n",
    "                cnt = 0\n",
    "            \n",
    "            else:\n",
    "                cnt += 1\n",
    "            \n",
    "            if h_p_fld[np.argmax(new_acc)] == rsrv:\n",
    "                res_acc = np.copy(new_acc)\n",
    "                res_acc[np.argmax(new_acc)] = 0\n",
    "                \n",
    "                if np.max(res_acc) == np.max(new_acc):\n",
    "                    h_p[i] = h_p_fld[np.argmax(res_acc)]\n",
    "                    acc_hst.append(np.max(res_acc))\n",
    "                    acc = np.max(res_acc)\n",
    "                \n",
    "                else:\n",
    "                    h_p[i] = h_p_fld[np.argmax(new_acc)]\n",
    "                    acc_hst.append(np.max(new_acc))\n",
    "                    acc = np.max(new_acc)\n",
    "            \n",
    "            else:\n",
    "                h_p[i] = h_p_fld[np.argmax(new_acc)]\n",
    "                acc_hst.append(np.max(new_acc))\n",
    "                acc = np.max(new_acc)\n",
    "            \n",
    "            print(new_acc)\n",
    "            \n",
    "            if i == 0:\n",
    "                epchs_hst.append(h_p[i])\n",
    "            \n",
    "            if i == 1:\n",
    "                btch_sz_hst.append(h_p[i])\n",
    "            \n",
    "            if i == 2:\n",
    "                dns_lr_hst.append(h_p[i])\n",
    "            \n",
    "            if i == 3:\n",
    "                maps_hst.append(h_p[i])\n",
    "            \n",
    "            if i == 4:\n",
    "                krnl1_hst.append(h_p[i])\n",
    "            \n",
    "            if i == 5:\n",
    "                krnl2_hst.append(h_p[i])\n",
    "            \n",
    "            if i == 6:\n",
    "                krnl3_hst.append(h_p[i])\n",
    "            \n",
    "            if cnt > 2 * len(h_p):\n",
    "                break\n",
    "    \n",
    "    acc_hst = np.array(acc_hst)\n",
    "    epchs_hst = np.array(epchs_hst)\n",
    "    btch_sz_hst = np.array(btch_sz_hst)\n",
    "    krnl1_hst = np.array(krnl1_hst)\n",
    "    krnl2_hst = np.array(krnl2_hst)\n",
    "    krnl3_hst = np.array(krnl3_hst)\n",
    "    dns_lr_hst = np.array(dns_lr_hst)\n",
    "    maps_hst = np.array(maps_hst)\n",
    "    print(h_p)\n",
    "    \n",
    "    plt.plot(range(len(acc_hst)), acc_hst)\n",
    "    plt.grid()\n",
    "    plt.xlabel('Hyperparameter changes')\n",
    "    plt.ylabel('Accuracy')\n",
    "    plt.show()\n",
    "    \n",
    "    plt.plot(range(len(epchs_hst)), epchs_hst)\n",
    "    plt.grid()\n",
    "    plt.xlabel('Hyperparameter epochs changes')\n",
    "    plt.ylabel('Amount of epochs')\n",
    "    plt.show()\n",
    "    \n",
    "    plt.plot(range(len(btch_sz_hst)), btch_sz_hst)\n",
    "    plt.grid()\n",
    "    plt.xlabel('Hyperparameter batch size changes')\n",
    "    plt.ylabel('Batch size')\n",
    "    plt.show()\n",
    "    \n",
    "    plt.plot(range(len(krnl1_hst)), krnl1_hst)\n",
    "    plt.grid()\n",
    "    plt.xlabel('Hyperparameter kernel 1 size changes')\n",
    "    plt.ylabel('Kernel 1 size')\n",
    "    plt.show()\n",
    "    \n",
    "    plt.plot(range(len(krnl2_hst)), krnl2_hst)\n",
    "    plt.grid()\n",
    "    plt.xlabel('Hyperparameter kernel 2 size changes')\n",
    "    plt.ylabel('Kernel 2 size')\n",
    "    plt.show()\n",
    "    \n",
    "    plt.plot(range(len(krnl3_hst)), krnl3_hst)\n",
    "    plt.grid()\n",
    "    plt.xlabel('Hyperparameter kernel 3 size changes')\n",
    "    plt.ylabel('Kernel 3 size')\n",
    "    plt.show()\n",
    "    \n",
    "    plt.plot(range(len(dns_lr_hst)), dns_lr_hst)\n",
    "    plt.grid()\n",
    "    plt.xlabel('Hyperparameter size of dense layer changes')\n",
    "    plt.ylabel('Size of dense layer')\n",
    "    plt.show()\n",
    "    \n",
    "    plt.plot(range(len(maps_hst)), maps_hst)\n",
    "    plt.grid()\n",
    "    plt.xlabel('Hyperparameter basic amount of maps changes')\n",
    "    plt.ylabel('Basic amount of maps')\n",
    "    plt.show()"
   ]
  },
  {
   "cell_type": "code",
   "execution_count": 47,
   "metadata": {},
   "outputs": [
    {
     "name": "stdout",
     "output_type": "stream",
     "text": [
      "0.675\n",
      "[ 9 12 15 18 21]\n",
      "[ 15  15 100  16   3   3   3]\n",
      "[0.625      0.64999998 0.67500001 0.69999999 0.69999999]\n",
      "[ 9 12 15 18 21]\n",
      "[ 18  15 100  16   3   3   3]\n",
      "[0.67500001 0.64999998 0.69999999 0.64999998 0.64999998]\n",
      "[100 140  80 120  60]\n",
      "[ 18  15 100  16   3   3   3]\n",
      "[0.69999999 0.67500001 0.64999998 0.67500001 0.64999998]\n",
      "[ 9 12 16 19 22]\n",
      "[ 18  15 100  16   3   3   3]\n",
      "[0.64999998 0.67500001 0.69999999 0.67500001 0.72500002]\n",
      "[3 5 7 9]\n",
      "[ 18  15 100  22   3   3   3]\n",
      "[0.72500002 0.72500002 0.64999998 0.72500002]\n",
      "[3 5 7 9]\n",
      "[ 18  15 100  22   5   3   3]\n",
      "[0.72500002 0.80000001 0.80000001 0.72500002]\n",
      "[3 5 7 9]\n",
      "[ 18  15 100  22   5   5   3]\n",
      "[0.80000001 0.77499998 0.77499998 0.75      ]\n",
      "[10 14 18 21 25]\n",
      "[ 18  15 100  22   5   5   3]\n",
      "[0.72500002 0.75       0.80000001 0.77499998 0.77499998]\n",
      "[ 9 12 15 18 21]\n",
      "[ 18  15 100  22   5   5   3]\n",
      "[0.80000001 0.80000001 0.80000001 0.77499998 0.77499998]\n",
      "[100 140  80 120  60]\n",
      "[ 18   9 100  22   5   5   3]\n",
      "[0.80000001 0.80000001 0.80000001 0.80000001 0.82499999]\n",
      "[13 17 22 26 30]\n",
      "[18  9 60 22  5  5  3]\n",
      "[0.80000001 0.75       0.82499999 0.75       0.75      ]\n",
      "[3 5 7 9]\n",
      "[18  9 60 22  5  5  3]\n",
      "[0.72500002 0.82499999 0.77499998 0.77499998]\n",
      "[3 5 7 9]\n",
      "[18  9 60 22  5  5  3]\n",
      "[0.77499998 0.82499999 0.82499999 0.72500002]\n",
      "[3 5 7 9]\n",
      "[18  9 60 22  5  7  3]\n",
      "[0.82499999 0.80000001 0.75       0.85000002]\n",
      "[10 14 18 21 25]\n",
      "[18  9 60 22  5  7  9]\n",
      "[0.69999999 0.77499998 0.85000002 0.80000001 0.80000001]\n",
      "[ 5  7  9 10 12]\n",
      "[18  9 60 22  5  7  9]\n",
      "[0.80000001 0.77499998 0.85000002 0.80000001 0.82499999]\n",
      "[36 72 48 84 60]\n",
      "[18  9 60 22  5  7  9]\n",
      "[0.80000001 0.85000002 0.875      0.875      0.85000002]\n",
      "[13 17 22 26 30]\n",
      "[18  9 48 22  5  7  9]\n",
      "[0.80000001 0.69999999 0.875      0.72500002 0.77499998]\n",
      "[3 5 7 9]\n",
      "[18  9 48 22  5  7  9]\n",
      "[0.75  0.875 0.75  0.75 ]\n",
      "[3 5 7 9]\n",
      "[18  9 48 22  5  7  9]\n",
      "[0.72500002 0.77499998 0.875      0.72500002]\n",
      "[3 5 7 9]\n",
      "[18  9 48 22  5  7  9]\n",
      "[0.82499999 0.77499998 0.77499998 0.875     ]\n",
      "[10 14 18 21 25]\n",
      "[18  9 48 22  5  7  9]\n",
      "[0.75       0.82499999 0.875      0.80000001 0.80000001]\n",
      "[ 5  7  9 10 12]\n",
      "[18  9 48 22  5  7  9]\n",
      "[0.80000001 0.80000001 0.875      0.85000002 0.80000001]\n",
      "[67 38 48 57 28]\n",
      "[18  9 48 22  5  7  9]\n",
      "[0.77499998 0.82499999 0.875      0.77499998 0.875     ]\n",
      "[13 17 22 26 30]\n",
      "[18  9 28 22  5  7  9]\n",
      "[0.67500001 0.80000001 0.875      0.75       0.80000001]\n",
      "[10 14 18 21 25]\n",
      "[18  9 28 22  5  7  9]\n",
      "[0.80000001 0.75       0.875      0.77499998 0.80000001]\n",
      "[10 14 18 21 25]\n",
      "[18  9 28 22  5  7  9]\n",
      "[0.80000001 0.75       0.875      0.77499998 0.80000001]\n",
      "[10 14 18 21 25]\n",
      "[18  9 28 22  5  7  9]\n",
      "[0.80000001 0.75       0.875      0.77499998 0.80000001]\n",
      "[10 14 18 21 25]\n",
      "[18  9 28 22  5  7  9]\n",
      "[0.80000001 0.75       0.875      0.77499998 0.80000001]\n",
      "[10 14 18 21 25]\n",
      "[18  9 28 22  5  7  9]\n",
      "[0.80000001 0.75       0.875      0.77499998 0.80000001]\n",
      "[10 14 18 21 25]\n",
      "[18  9 28 22  5  7  9]\n",
      "[0.80000001 0.75       0.875      0.77499998 0.80000001]\n",
      "[18  9 28 22  5  7  9]\n"
     ]
    },
    {
     "data": {
      "image/png": "[encoded data removed]",
      "text/plain": [
       "<Figure size 432x288 with 1 Axes>"
      ]
     },
     "metadata": {
      "needs_background": "light"
     },
     "output_type": "display_data"
    },
    {
     "data": {
      "image/png": "[encoded data removed]",
      "text/plain": [
       "<Figure size 432x288 with 1 Axes>"
      ]
     },
     "metadata": {
      "needs_background": "light"
     },
     "output_type": "display_data"
    },
    {
     "data": {
      "image/png": "[encoded data removed]",
      "text/plain": [
       "<Figure size 432x288 with 1 Axes>"
      ]
     },
     "metadata": {
      "needs_background": "light"
     },
     "output_type": "display_data"
    },
    {
     "data": {
      "image/png": "[encoded data removed]",
      "text/plain": [
       "<Figure size 432x288 with 1 Axes>"
      ]
     },
     "metadata": {
      "needs_background": "light"
     },
     "output_type": "display_data"
    },
    {
     "data": {
      "image/png": "[encoded data removed]",
      "text/plain": [
       "<Figure size 432x288 with 1 Axes>"
      ]
     },
     "metadata": {
      "needs_background": "light"
     },
     "output_type": "display_data"
    },
    {
     "data": {
      "image/png": "[encoded data removed]",
      "text/plain": [
       "<Figure size 432x288 with 1 Axes>"
      ]
     },
     "metadata": {
      "needs_background": "light"
     },
     "output_type": "display_data"
    },
    {
     "data": {
      "image/png": "[encoded data removed]",
      "text/plain": [
       "<Figure size 432x288 with 1 Axes>"
      ]
     },
     "metadata": {
      "needs_background": "light"
     },
     "output_type": "display_data"
    },
    {
     "data": {
      "image/png": "[encoded data removed]",
      "text/plain": [
       "<Figure size 432x288 with 1 Axes>"
      ]
     },
     "metadata": {
      "needs_background": "light"
     },
     "output_type": "display_data"
    }
   ],
   "source": [
    "hyp_prm_fit(15, 15, 3, 3, 3, 100, 16, trn_d, trn_l, tst_d, tst_l)"
   ]
  },
  {
   "cell_type": "code",
   "execution_count": 87,
   "metadata": {},
   "outputs": [
    {
     "name": "stdout",
     "output_type": "stream",
     "text": [
      "WARNING:tensorflow:From C:\\Users\\72684\\Anaconda3\\envs\\chemie\\lib\\site-packages\\tensorflow_core\\python\\ops\\resource_variable_ops.py:1786: calling BaseResourceVariable.__init__ (from tensorflow.python.ops.resource_variable_ops) with constraint is deprecated and will be removed in a future version.\n",
      "Instructions for updating:\n",
      "If using Keras pass *_constraint arguments to layers.\n",
      "INFO:tensorflow:Assets written to: mdl\\assets\n"
     ]
    }
   ],
   "source": [
    "mdl.save('mdl')\n",
    "mdl_rsrv = keras.models.load_model('mdl')"
   ]
  },
  {
   "cell_type": "code",
   "execution_count": 26,
   "metadata": {},
   "outputs": [
    {
     "name": "stdout",
     "output_type": "stream",
     "text": [
      "Train on 160 samples, validate on 40 samples\n",
      "Epoch 1/20\n",
      "160/160 [==============================] - 2s 11ms/sample - loss: 0.6955 - accuracy: 0.4938 - val_loss: 0.6872 - val_accuracy: 0.5250\n",
      "Epoch 2/20\n",
      "160/160 [==============================] - 0s 2ms/sample - loss: 0.6866 - accuracy: 0.5188 - val_loss: 0.6868 - val_accuracy: 0.5250\n",
      "Epoch 3/20\n",
      "160/160 [==============================] - 0s 2ms/sample - loss: 0.6575 - accuracy: 0.6562 - val_loss: 0.6702 - val_accuracy: 0.6000\n",
      "Epoch 4/20\n",
      "160/160 [==============================] - 0s 2ms/sample - loss: 0.6411 - accuracy: 0.6875 - val_loss: 0.6589 - val_accuracy: 0.5750\n",
      "Epoch 5/20\n",
      "160/160 [==============================] - 0s 2ms/sample - loss: 0.6355 - accuracy: 0.6313 - val_loss: 0.6587 - val_accuracy: 0.5500\n",
      "Epoch 6/20\n",
      "160/160 [==============================] - 0s 2ms/sample - loss: 0.6058 - accuracy: 0.6750 - val_loss: 0.6445 - val_accuracy: 0.5750\n",
      "Epoch 7/20\n",
      "160/160 [==============================] - 0s 3ms/sample - loss: 0.5868 - accuracy: 0.7000 - val_loss: 0.6514 - val_accuracy: 0.5750\n",
      "Epoch 8/20\n",
      "160/160 [==============================] - 0s 2ms/sample - loss: 0.5634 - accuracy: 0.7188 - val_loss: 0.6298 - val_accuracy: 0.6000\n",
      "Epoch 9/20\n",
      "160/160 [==============================] - 0s 2ms/sample - loss: 0.5522 - accuracy: 0.7563 - val_loss: 0.6196 - val_accuracy: 0.5750\n",
      "Epoch 10/20\n",
      "160/160 [==============================] - 0s 2ms/sample - loss: 0.5307 - accuracy: 0.7812 - val_loss: 0.6139 - val_accuracy: 0.5750\n",
      "Epoch 11/20\n",
      "160/160 [==============================] - 0s 2ms/sample - loss: 0.5093 - accuracy: 0.7875 - val_loss: 0.6214 - val_accuracy: 0.6250\n",
      "Epoch 12/20\n",
      "160/160 [==============================] - 0s 2ms/sample - loss: 0.4930 - accuracy: 0.7875 - val_loss: 0.6249 - val_accuracy: 0.6250\n",
      "Epoch 13/20\n",
      "160/160 [==============================] - 0s 2ms/sample - loss: 0.5203 - accuracy: 0.7563 - val_loss: 0.6020 - val_accuracy: 0.6250\n",
      "Epoch 14/20\n",
      "160/160 [==============================] - 0s 2ms/sample - loss: 0.4857 - accuracy: 0.8125 - val_loss: 0.6172 - val_accuracy: 0.6250\n",
      "Epoch 15/20\n",
      "160/160 [==============================] - 0s 2ms/sample - loss: 0.4667 - accuracy: 0.7937 - val_loss: 0.5866 - val_accuracy: 0.6250\n",
      "Epoch 16/20\n",
      "160/160 [==============================] - 0s 2ms/sample - loss: 0.4607 - accuracy: 0.8125 - val_loss: 0.5834 - val_accuracy: 0.6250\n",
      "Epoch 17/20\n",
      "160/160 [==============================] - 0s 2ms/sample - loss: 0.4639 - accuracy: 0.8125 - val_loss: 0.5896 - val_accuracy: 0.6250\n",
      "Epoch 18/20\n",
      "160/160 [==============================] - 0s 2ms/sample - loss: 0.4366 - accuracy: 0.8188 - val_loss: 0.5911 - val_accuracy: 0.6250\n",
      "Epoch 19/20\n",
      "160/160 [==============================] - 0s 2ms/sample - loss: 0.4439 - accuracy: 0.8125 - val_loss: 0.5972 - val_accuracy: 0.6250\n",
      "Epoch 20/20\n",
      "160/160 [==============================] - 0s 2ms/sample - loss: 0.4272 - accuracy: 0.8375 - val_loss: 0.5780 - val_accuracy: 0.6250\n"
     ]
    },
    {
     "data": {
      "text/plain": [
       "<tensorflow.python.keras.callbacks.History at 0x240233ec308>"
      ]
     },
     "execution_count": 26,
     "metadata": {},
     "output_type": "execute_result"
    }
   ],
   "source": [
    "mdl.fit(trn_d, trn_l, epochs = 20, batch_size = 20, validation_data = (tst_d, tst_l))"
   ]
  },
  {
   "cell_type": "code",
   "execution_count": 35,
   "metadata": {},
   "outputs": [
    {
     "name": "stdout",
     "output_type": "stream",
     "text": [
      "40/40 [==============================] - 0s 9ms/sample - loss: 0.6908 - accuracy: 0.5000\n"
     ]
    },
    {
     "data": {
      "text/plain": [
       "[0.6908074378967285, 0.5]"
      ]
     },
     "execution_count": 35,
     "metadata": {},
     "output_type": "execute_result"
    }
   ],
   "source": [
    "mdl.evaluate(tst_d, tst_l)"
   ]
  },
  {
   "cell_type": "code",
   "execution_count": null,
   "metadata": {},
   "outputs": [],
   "source": [
    "Поочерёдная проверка каждого гиперпараметра с разными величиной и направлением возможного шага\n",
    "\n",
    "Проверка набора гиперпараметров проводится через усреднение результатов пяти обученных нейросетей\n",
    "\n",
    "Используется общая исходная нейросеть, которая хранится в отдельной резервной переменной\n",
    "\n",
    "Суть алгоритма относительно концепции RL заключается в выборе значения параметра, которое соответствует наибольшей точности\n",
    "Таким образом награда - прирост к точности системы\n",
    "\n",
    "Работа системы напоминает greedy алгоритм\n",
    "Его можно попробовать свести к e-greedy"
   ]
  },
  {
   "cell_type": "code",
   "execution_count": 111,
   "metadata": {},
   "outputs": [
    {
     "name": "stderr",
     "output_type": "stream",
     "text": [
      "C:\\Users\\72684\\AppData\\Roaming\\Python\\Python37\\site-packages\\ipykernel_launcher.py:1: VisibleDeprecationWarning: Creating an ndarray from ragged nested sequences (which is a list-or-tuple of lists-or-tuples-or ndarrays with different lengths or shapes) is deprecated. If you meant to do this, you must specify 'dtype=object' when creating the ndarray.\n",
      "  \"\"\"Entry point for launching an IPython kernel.\n"
     ]
    },
    {
     "data": {
      "text/plain": [
       "array([1, 2, 4])"
      ]
     },
     "execution_count": 111,
     "metadata": {},
     "output_type": "execute_result"
    }
   ],
   "source": [
    "a = np.array([[2, 1, 4, 2], [1, 2, 4]])\n",
    "a[0] = np.array(list(set(a[0])))\n",
    "a[0]"
   ]
  },
  {
   "cell_type": "code",
   "execution_count": 138,
   "metadata": {},
   "outputs": [
    {
     "data": {
      "text/plain": [
       "array([[ 0.35,  0.45,  0.5 ,  0.55,  0.65],\n",
       "       [ 7.  ,  9.  , 10.  , 11.  , 13.  ]])"
      ]
     },
     "execution_count": 138,
     "metadata": {},
     "output_type": "execute_result"
    }
   ],
   "source": [
    "h_p = np.array([0.5, 10])\n",
    "steps = np.array([0.7, 0.9, 1, 1.1, 1.3])\n",
    "tp = np.array(['float', 'int'])\n",
    "h_p_fld = np.zeros((len(h_p), len(steps)))\n",
    "\n",
    "for i in range(len(h_p)):\n",
    "            h_p_fld[i] = np.array(h_p[i] * steps, tp[i])\n",
    "\n",
    "h_p_fld"
   ]
  },
  {
   "cell_type": "code",
   "execution_count": 132,
   "metadata": {},
   "outputs": [
    {
     "ename": "SyntaxError",
     "evalue": "invalid syntax (<string>, line 1)",
     "output_type": "error",
     "traceback": [
      "Traceback \u001b[1;36m(most recent call last)\u001b[0m:\n",
      "  File \u001b[0;32m\"C:\\Users\\72684\\AppData\\Roaming\\Python\\Python37\\site-packages\\IPython\\core\\interactiveshell.py\"\u001b[0m, line \u001b[0;32m3444\u001b[0m, in \u001b[0;35mrun_code\u001b[0m\n    exec(code_obj, self.user_global_ns, self.user_ns)\n",
      "\u001b[1;36m  File \u001b[1;32m\"C:\\Users\\72684\\AppData\\Local\\Temp/ipykernel_5520/2929484882.py\"\u001b[1;36m, line \u001b[1;32m3\u001b[1;36m, in \u001b[1;35m<module>\u001b[1;36m\u001b[0m\n\u001b[1;33m    a = eval(tp[0] + '(' + str(h_p) + ')')\u001b[0m\n",
      "\u001b[1;36m  File \u001b[1;32m\"<string>\"\u001b[1;36m, line \u001b[1;32m1\u001b[0m\n\u001b[1;33m    int([ 0.5 10. ])\u001b[0m\n\u001b[1;37m                ^\u001b[0m\n\u001b[1;31mSyntaxError\u001b[0m\u001b[1;31m:\u001b[0m invalid syntax\n"
     ]
    }
   ],
   "source": [
    "h_p = np.array([0.5, 10])\n",
    "tp = np.array(['int', 'str'])\n",
    "a = eval(tp[0] + '(' + str(h_p) + ')')\n",
    "a"
   ]
  },
  {
   "cell_type": "code",
   "execution_count": 31,
   "metadata": {},
   "outputs": [],
   "source": [
    "def lol():\n",
    "    for i in range(7):\n",
    "        print(np.random.rand(2, 3))"
   ]
  },
  {
   "cell_type": "code",
   "execution_count": 32,
   "metadata": {},
   "outputs": [
    {
     "name": "stdout",
     "output_type": "stream",
     "text": [
      "[[0.07630829 0.77991879 0.43840923]\n",
      " [0.72346518 0.97798951 0.53849587]]\n",
      "[[0.50112046 0.07205113 0.26843898]\n",
      " [0.4998825  0.67923    0.80373904]]\n",
      "[[0.38094113 0.06593635 0.2881456 ]\n",
      " [0.90959353 0.21338535 0.45212396]]\n",
      "[[0.93120602 0.02489923 0.60054892]\n",
      " [0.9501295  0.23030288 0.54848992]]\n",
      "[[0.90912837 0.13316945 0.52341258]\n",
      " [0.75040986 0.66901324 0.46775286]]\n",
      "[[0.20484909 0.49076589 0.37238469]\n",
      " [0.47740115 0.36589039 0.83791799]]\n",
      "[[0.76864751 0.31399468 0.57262533]\n",
      " [0.27604905 0.45284293 0.35297837]]\n"
     ]
    }
   ],
   "source": [
    "np.random.seed(7)\n",
    "lol()"
   ]
  },
  {
   "cell_type": "markdown",
   "metadata": {},
   "source": [
    "# Start"
   ]
  },
  {
   "cell_type": "code",
   "execution_count": 1,
   "metadata": {},
   "outputs": [],
   "source": [
    "import os\n",
    "import random\n",
    "import cv2 as cv\n",
    "import numpy as np\n",
    "import tensorflow as tf\n",
    "from sklearn import metrics\n",
    "from tensorflow import keras\n",
    "import matplotlib.pyplot as plt\n",
    "from tensorflow.keras.models import Sequential\n",
    "from sklearn.model_selection import train_test_split\n",
    "from tensorflow.keras.layers import Dense, Conv2D, MaxPooling2D, Flatten"
   ]
  },
  {
   "cell_type": "code",
   "execution_count": 2,
   "metadata": {},
   "outputs": [
    {
     "name": "stderr",
     "output_type": "stream",
     "text": [
      "C:\\Users\\72684\\AppData\\Roaming\\Python\\Python37\\site-packages\\ipykernel_launcher.py:15: VisibleDeprecationWarning: Creating an ndarray from ragged nested sequences (which is a list-or-tuple of lists-or-tuples-or ndarrays with different lengths or shapes) is deprecated. If you meant to do this, you must specify 'dtype=object' when creating the ndarray.\n",
      "  from ipykernel import kernelapp as app\n",
      "C:\\Users\\72684\\AppData\\Roaming\\Python\\Python37\\site-packages\\ipykernel_launcher.py:16: VisibleDeprecationWarning: Creating an ndarray from ragged nested sequences (which is a list-or-tuple of lists-or-tuples-or ndarrays with different lengths or shapes) is deprecated. If you meant to do this, you must specify 'dtype=object' when creating the ndarray.\n",
      "  app.launch_new_instance()\n"
     ]
    }
   ],
   "source": [
    "# Upload train/test data\n",
    "\n",
    "np.random.seed(7)\n",
    "female = []\n",
    "male = []\n",
    "\n",
    "for i in os.listdir('C:/Users/72684/Desktop/Reinforcement Learning/Female'):\n",
    "    path = 'C:/Users/72684/Desktop/Reinforcement Learning/Female/{}'.format(i)\n",
    "    female.append([cv.imread(path, cv.IMREAD_COLOR) / 255, 0])\n",
    "\n",
    "for i in os.listdir('C:/Users/72684/Desktop/Reinforcement Learning/Male'):\n",
    "    path = 'C:/Users/72684/Desktop/Reinforcement Learning/Male/{}'.format(i)\n",
    "    male.append([cv.imread(path, cv.IMREAD_COLOR) / 255, 1])\n",
    "\n",
    "female = np.array(female)\n",
    "male = np.array(male)\n",
    "\n",
    "f_trn, f_tst = train_test_split(female, test_size = 0.2)\n",
    "m_trn, m_tst = train_test_split(male, test_size = 0.2)\n",
    "\n",
    "train = []\n",
    "test = []\n",
    "\n",
    "for i in range(len(f_trn)):\n",
    "    train.append(f_trn[i])\n",
    "    \n",
    "for i in range(len(m_trn)):\n",
    "    train.append(m_trn[i])\n",
    "\n",
    "for i in range(len(f_tst)):\n",
    "    test.append(f_tst[i])\n",
    "\n",
    "for i in range(len(m_tst)):\n",
    "    test.append(m_tst[i])\n",
    "\n",
    "random.shuffle(train)\n",
    "random.shuffle(test)\n",
    "\n",
    "train = np.array(train)\n",
    "test = np.array(test)\n",
    "\n",
    "trn_d = []\n",
    "tst_d = []\n",
    "\n",
    "trn_l = np.zeros(len(train))\n",
    "tst_l = np.zeros(len(test))\n",
    "\n",
    "for i in range(len(train)):\n",
    "    trn_l[i] = train[i, 1]\n",
    "    trn_d.append(train[i, 0])\n",
    "\n",
    "for i in range(len(test)):\n",
    "    tst_l[i] = test[i, 1]\n",
    "    tst_d.append(test[i, 0])\n",
    "\n",
    "trn_d = np.array(trn_d)\n",
    "tst_d = np.array(tst_d)"
   ]
  },
  {
   "cell_type": "code",
   "execution_count": 3,
   "metadata": {},
   "outputs": [],
   "source": [
    "# Define your model and its structural hyperparameters there\n",
    "\n",
    "def build_model(krnl1, krnl2, krnl3, dns_lr, maps):\n",
    "    tf.random.set_seed(7)\n",
    "    \n",
    "    mdl = Sequential()\n",
    "    \n",
    "    mdl.add(Conv2D(maps, krnl1, activation = 'relu', input_shape = (48, 48, 3), padding = \"same\"))\n",
    "    mdl.add(MaxPooling2D(2, 2))\n",
    "    \n",
    "    mdl.add(Conv2D(2 * maps, krnl2, activation = 'relu', padding = \"same\"))\n",
    "    mdl.add(MaxPooling2D(2, 2))\n",
    "    \n",
    "    mdl.add(Conv2D(4 * maps, krnl3, activation = 'relu', padding = \"same\"))\n",
    "    \n",
    "    mdl.add(Flatten())\n",
    "    mdl.add(Dense(dns_lr, activation = 'relu'))\n",
    "    mdl.add(Dense(1, activation = 'sigmoid'))\n",
    "    \n",
    "    mdl.compile(loss = 'binary_crossentropy', optimizer = 'adagrad', metrics = ['accuracy'])\n",
    "    \n",
    "    return mdl"
   ]
  },
  {
   "cell_type": "code",
   "execution_count": 4,
   "metadata": {},
   "outputs": [],
   "source": [
    "# Hyperparameters search algorithm\n",
    "\n",
    "def hyp_prm_fit(epochs, btch_sz, krnl1, krnl2, krnl3, dns_lr, maps, trn_d, trn_l, tst_d, tst_l): # Define your system's\n",
    "    h_p = np.array([epochs, btch_sz, dns_lr, maps, krnl1, krnl2, krnl3])                         # hyperparameters including\n",
    "    steps_cntns = np.array([0.6, 0.8, 1, 1.2, 1.4])                                              # train hyperparameters\n",
    "    steps_dscrt = np.array([3, 5, 7, 9], int) # steps_cntns steps for continuous values (not limited with some set of values)\n",
    "    dt_tp = np.array(['int', 'int', 'int', 'int']) # steps_dscrt for discrete values (possible kernel sizes and so on)\n",
    "    acc = 0 # dt_tp is to set continuous value's datatype for each hyperparameter\n",
    "    cnt = 0\n",
    "    acc_hst = [] # Change names and amount of variables below if you have another set of hyperparameters\n",
    "    epchs_hst = []\n",
    "    btch_sz_hst = []\n",
    "    krnl1_hst = []\n",
    "    krnl2_hst = []\n",
    "    krnl3_hst = []\n",
    "    dns_lr_hst = []\n",
    "    maps_hst = []\n",
    "    \n",
    "    mdl = build_model((krnl1, krnl1), (krnl2, krnl2), (krnl3, krnl3), dns_lr, maps) # Set structural hyperparameters\n",
    "    tf.random.set_seed(7) # Set train hyperparameters below\n",
    "    mdl.fit(trn_d, trn_l, epochs = epochs, batch_size = btch_sz, validation_data = (tst_d, tst_l), verbose = False)\n",
    "    acc = mdl.evaluate(tst_d, tst_l, verbose = False)[1]\n",
    "    acc_hst.append(acc) # Change names and amount of variables below if you have another set of hyperparameters\n",
    "    epchs_hst.append(epochs)\n",
    "    btch_sz_hst.append(btch_sz)\n",
    "    krnl1_hst.append(krnl1)\n",
    "    krnl2_hst.append(krnl2)\n",
    "    krnl3_hst.append(krnl3)\n",
    "    dns_lr_hst.append(dns_lr)\n",
    "    maps_hst.append(maps)\n",
    "    print(acc)\n",
    "    \n",
    "    for episode in range(10): # Amount of episodes to find hyperparameters\n",
    "        for i in range(len(h_p)):\n",
    "            if i <= 3: # This value + 1 corresponds to amount of continuous hyperparameters\n",
    "                h_p_fld = np.zeros(len(steps_cntns))\n",
    "                h_p_fld = np.array(list(set(np.array(h_p[i] * steps_cntns, dt_tp[i]))))\n",
    "                new_acc = np.zeros(len(h_p_fld))\n",
    "                rsrv = h_p[i]\n",
    "                print(h_p)\n",
    "                print(h_p_fld)\n",
    "            \n",
    "            else: # There the work with discrete hyperparameters starts\n",
    "                h_p_fld = np.zeros(len(steps_dscrt))\n",
    "                h_p_fld = np.array(steps_dscrt)\n",
    "                new_acc = np.zeros(len(h_p_fld))\n",
    "                rsrv = h_p[i]\n",
    "                print(h_p)\n",
    "                print(h_p_fld)\n",
    "            \n",
    "            for val in range(len(h_p_fld)):\n",
    "                h_p[i] = h_p_fld[val] # h_p stores current values of hyperparameters for training\n",
    "                \n",
    "                mdl = build_model((h_p[4], h_p[4]), (h_p[5], h_p[5]), (h_p[6], h_p[6]), h_p[2], h_p[3])\n",
    "                tf.random.set_seed(7)\n",
    "                mdl.fit(trn_d, trn_l, epochs = h_p[0], batch_size = h_p[1], validation_data = (tst_d, tst_l), verbose = False)\n",
    "                new_acc[val] = mdl.evaluate(tst_d, tst_l, verbose = False)[1]\n",
    "            \n",
    "            \n",
    "            if np.max(new_acc) > acc:\n",
    "                cnt = 0\n",
    "            \n",
    "            else:\n",
    "                cnt += 1\n",
    "            \n",
    "            if h_p_fld[np.argmax(new_acc)] == rsrv:\n",
    "                res_acc = np.copy(new_acc)\n",
    "                res_acc[np.argmax(new_acc)] = 0\n",
    "                \n",
    "                if np.max(res_acc) == np.max(new_acc):\n",
    "                    h_p[i] = h_p_fld[np.argmax(res_acc)]\n",
    "                    acc_hst.append(np.max(res_acc))\n",
    "                    acc = np.max(res_acc)\n",
    "                \n",
    "                else:\n",
    "                    h_p[i] = h_p_fld[np.argmax(new_acc)]\n",
    "                    acc_hst.append(np.max(new_acc))\n",
    "                    acc = np.max(new_acc)\n",
    "            \n",
    "            else:\n",
    "                h_p[i] = h_p_fld[np.argmax(new_acc)]\n",
    "                acc_hst.append(np.max(new_acc))\n",
    "                acc = np.max(new_acc)\n",
    "            \n",
    "            print(new_acc)\n",
    "            \n",
    "            if i == 0: # Change names and amount of variables below if you have another set of hyperparameters\n",
    "                epchs_hst.append(h_p[i])\n",
    "            \n",
    "            if i == 1:\n",
    "                btch_sz_hst.append(h_p[i])\n",
    "            \n",
    "            if i == 2:\n",
    "                dns_lr_hst.append(h_p[i])\n",
    "            \n",
    "            if i == 3:\n",
    "                maps_hst.append(h_p[i])\n",
    "            \n",
    "            if i == 4:\n",
    "                krnl1_hst.append(h_p[i])\n",
    "            \n",
    "            if i == 5:\n",
    "                krnl2_hst.append(h_p[i])\n",
    "            \n",
    "            if i == 6:\n",
    "                krnl3_hst.append(h_p[i])\n",
    "            \n",
    "            if cnt > 2 * len(h_p): # Search breaking criterion\n",
    "                break\n",
    "    \n",
    "    acc_hst = np.array(acc_hst) # Change names and amount of variables below if you have another set of hyperparameters\n",
    "    epchs_hst = np.array(epchs_hst)\n",
    "    btch_sz_hst = np.array(btch_sz_hst)\n",
    "    krnl1_hst = np.array(krnl1_hst)\n",
    "    krnl2_hst = np.array(krnl2_hst)\n",
    "    krnl3_hst = np.array(krnl3_hst)\n",
    "    dns_lr_hst = np.array(dns_lr_hst)\n",
    "    maps_hst = np.array(maps_hst)\n",
    "    print(h_p)\n",
    "    \n",
    "    plt.plot(range(len(acc_hst)), acc_hst) # Change amount of plots below with respect to amount of hyperparameters (except acc)\n",
    "    plt.grid()\n",
    "    plt.xlabel('Hyperparameter changes')\n",
    "    plt.ylabel('Accuracy')\n",
    "    plt.show()\n",
    "    \n",
    "    plt.plot(range(len(epchs_hst)), epchs_hst)\n",
    "    plt.grid()\n",
    "    plt.xlabel('Hyperparameter epochs changes')\n",
    "    plt.ylabel('Amount of epochs')\n",
    "    plt.show()\n",
    "    \n",
    "    plt.plot(range(len(btch_sz_hst)), btch_sz_hst)\n",
    "    plt.grid()\n",
    "    plt.xlabel('Hyperparameter batch size changes')\n",
    "    plt.ylabel('Batch size')\n",
    "    plt.show()\n",
    "    \n",
    "    plt.plot(range(len(krnl1_hst)), krnl1_hst)\n",
    "    plt.grid()\n",
    "    plt.xlabel('Hyperparameter kernel 1 size changes')\n",
    "    plt.ylabel('Kernel 1 size')\n",
    "    plt.show()\n",
    "    \n",
    "    plt.plot(range(len(krnl2_hst)), krnl2_hst)\n",
    "    plt.grid()\n",
    "    plt.xlabel('Hyperparameter kernel 2 size changes')\n",
    "    plt.ylabel('Kernel 2 size')\n",
    "    plt.show()\n",
    "    \n",
    "    plt.plot(range(len(krnl3_hst)), krnl3_hst)\n",
    "    plt.grid()\n",
    "    plt.xlabel('Hyperparameter kernel 3 size changes')\n",
    "    plt.ylabel('Kernel 3 size')\n",
    "    plt.show()\n",
    "    \n",
    "    plt.plot(range(len(dns_lr_hst)), dns_lr_hst)\n",
    "    plt.grid()\n",
    "    plt.xlabel('Hyperparameter size of dense layer changes')\n",
    "    plt.ylabel('Size of dense layer')\n",
    "    plt.show()\n",
    "    \n",
    "    plt.plot(range(len(maps_hst)), maps_hst)\n",
    "    plt.grid()\n",
    "    plt.xlabel('Hyperparameter basic amount of maps changes')\n",
    "    plt.ylabel('Basic amount of maps')\n",
    "    plt.show()"
   ]
  },
  {
   "cell_type": "code",
   "execution_count": null,
   "metadata": {},
   "outputs": [],
   "source": [
    "hyp_prm_fit(15, 15, 3, 3, 3, 100, 16, trn_d, trn_l, tst_d, tst_l) # Set initial value of each hyperparameter"
   ]
  },
  {
   "cell_type": "code",
   "execution_count": null,
   "metadata": {},
   "outputs": [],
   "source": []
  }
 ],
 "metadata": {
  "kernelspec": {
   "display_name": "Python 3",
   "language": "python",
   "name": "python3"
  },
  "language_info": {
   "codemirror_mode": {
    "name": "ipython",
    "version": 3
   },
   "file_extension": ".py",
   "mimetype": "text/x-python",
   "name": "python",
   "nbconvert_exporter": "python",
   "pygments_lexer": "ipython3",
   "version": "3.7.9"
  }
 },
 "nbformat": 4,
 "nbformat_minor": 4
}
